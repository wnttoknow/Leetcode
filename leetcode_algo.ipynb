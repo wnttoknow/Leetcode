{
  "nbformat": 4,
  "nbformat_minor": 0,
  "metadata": {
    "colab": {
      "provenance": [],
      "toc_visible": true,
      "authorship_tag": "ABX9TyMP5YGd/iv6nhODKL0+mDap",
      "include_colab_link": true
    },
    "kernelspec": {
      "name": "python3",
      "display_name": "Python 3"
    },
    "language_info": {
      "name": "python"
    }
  },
  "cells": [
    {
      "cell_type": "markdown",
      "metadata": {
        "id": "view-in-github",
        "colab_type": "text"
      },
      "source": [
        "<a href=\"https://colab.research.google.com/github/wnttoknow/Leetcode/blob/main/leetcode_algo.ipynb\" target=\"_parent\"><img src=\"https://colab.research.google.com/assets/colab-badge.svg\" alt=\"Open In Colab\"/></a>"
      ]
    },
    {
      "cell_type": "markdown",
      "source": [
        "# Info\n",
        "Задачи с leetcode на алгоритмы.\n",
        "  \n",
        "Мне они даются **намного** сложнее чем sql, поэтому здесь easy и medium уровень.  \n",
        "Основные темы:\n",
        "- бинарный поиск;\n",
        "- два указателя;\n",
        "- скользящее окно;\n",
        "- BFS/DFS;\n",
        "- рекурсия\n"
      ],
      "metadata": {
        "id": "DhdAu869FMG_"
      }
    },
    {
      "cell_type": "markdown",
      "source": [
        "# Imports\n"
      ],
      "metadata": {
        "id": "37htALwUFUj9"
      }
    },
    {
      "cell_type": "code",
      "source": [
        "from typing import List, Optional\n",
        "from collections import Counter, deque\n",
        "import numpy as np"
      ],
      "metadata": {
        "id": "G2rvt6qgGCbu"
      },
      "execution_count": 1,
      "outputs": []
    },
    {
      "cell_type": "markdown",
      "source": [
        "# 121 Best Time to Buy and Sell Stock\n",
        "https://leetcode.com/problems/best-time-to-buy-and-sell-stock/\n",
        "\n",
        "\n",
        "❕ Чтобы не возвращать отрицательное значение прибыли можно обернуть в еще одну функцию max и сравнить с нулем. Тогда в случае отрицального значения вернется ноль.\n",
        "\n",
        "Brute force подход не прошел тесты, нужен линейный алгоритм в один проход:\n",
        "- Храним и апдейтим две переменные - минимальная цена и максимальная прибыль\n",
        "- для каждого элемента списка цен мы считаем разницу(прибыль) между ним и минимальной ценой, встреченой до этого элемента\n",
        "- если прибыль больше максимальной, мы обновляем ее\n"
      ],
      "metadata": {
        "id": "gvZW3KusFcLP"
      }
    },
    {
      "cell_type": "code",
      "source": [
        "# это brute force решение. Работает, но в тестах не проходит по памяти \n",
        "# O(n**2)\n",
        "class Solution:\n",
        "    def maxProfit(self, prices: List[int]) -> int:\n",
        "      deal = []\n",
        "      n = len(prices)\n",
        "      if n < 2:\n",
        "          return 0\n",
        "      for i in range(n):\n",
        "        for j in range(i+1, n):\n",
        "          deal.append(prices[j]-prices[i])\n",
        "      \n",
        "      return max(max(deal), 0)"
      ],
      "metadata": {
        "id": "Qmqpj-qTFm3c"
      },
      "execution_count": null,
      "outputs": []
    },
    {
      "cell_type": "code",
      "source": [
        "%%time\n",
        "\n",
        "prices = [7,1,5,3,6,4]\n",
        "if __name__ == '__main__':  \n",
        "    print(Solution().maxProfit(prices))"
      ],
      "metadata": {
        "colab": {
          "base_uri": "https://localhost:8080/"
        },
        "id": "47PEC5pqHCdr",
        "outputId": "27c06c2e-fc39-40ae-c80c-53187cbe513b"
      },
      "execution_count": null,
      "outputs": [
        {
          "output_type": "stream",
          "name": "stdout",
          "text": [
            "5\n",
            "CPU times: user 775 µs, sys: 0 ns, total: 775 µs\n",
            "Wall time: 782 µs\n"
          ]
        }
      ]
    },
    {
      "cell_type": "code",
      "source": [
        "class Solution:\n",
        "    def maxProfit(self, prices: List[int]) -> int:\n",
        "      max_profit = 0\n",
        "      min_price = float('Inf')\n",
        "      for price in prices:\n",
        "        min_price = min(price, min_price)\n",
        "        profit = price - min_price\n",
        "        max_profit = max(profit, max_profit)\n",
        "      return max_profit\n",
        "      "
      ],
      "metadata": {
        "id": "Pf90f8XwI_DR"
      },
      "execution_count": null,
      "outputs": []
    },
    {
      "cell_type": "code",
      "source": [
        "%%time\n",
        "\n",
        "prices = [7,1,5,3,6,4]\n",
        "if __name__ == '__main__':  \n",
        "    print(Solution().maxProfit(prices))"
      ],
      "metadata": {
        "colab": {
          "base_uri": "https://localhost:8080/"
        },
        "id": "z2HKF6VEip7G",
        "outputId": "d931d8a2-87d1-4b81-e35a-b5c726d7e9b2"
      },
      "execution_count": null,
      "outputs": [
        {
          "output_type": "stream",
          "name": "stdout",
          "text": [
            "5\n",
            "CPU times: user 968 µs, sys: 0 ns, total: 968 µs\n",
            "Wall time: 976 µs\n"
          ]
        }
      ]
    },
    {
      "cell_type": "markdown",
      "source": [
        "# 1 Two Sum\n",
        "https://leetcode.com/problems/two-sum/\n",
        "\n",
        "Как забрутфорсить в целом понятно, а вот решение в один проход очень интересное:\n",
        "- для него используем хэш-таблицу(словарь), так как обращение к ней по ключу не требует перебора всего списка (в общем случае это О(1)). \n",
        "- двигаясь по списку мы добавляем в нашу хэш-таблицу значения, где ключ - текущее число из списка, а значение для этого ключа - индекс этого числа.\n",
        "- одновременно мы проверяем по ключу если ли остаток (target минус текущее число) в нашей таблице. Если есть, то эта пара и есть наше решение (т.к. по условию решение - одно). Также не забываем проверить, что мы не тспользуем как остаток само число повторно. "
      ],
      "metadata": {
        "id": "rdDXkEjUELAG"
      }
    },
    {
      "cell_type": "code",
      "source": [
        "# brute foce\n",
        "class Solution:\n",
        "    def twoSum(self, nums: List[int], target: int) -> List[int]:\n",
        "      len_nums = len(nums)\n",
        "      for i in range(len_nums):\n",
        "        for j in range(i+1, len_nums):\n",
        "          if nums[i] + nums[j] == target:\n",
        "            return i, j"
      ],
      "metadata": {
        "id": "QLQF6-6-KWa2"
      },
      "execution_count": null,
      "outputs": []
    },
    {
      "cell_type": "code",
      "source": [
        " nums = [3,2,4]\n",
        " target = 6\n",
        " print(Solution().twoSum(nums, target))"
      ],
      "metadata": {
        "colab": {
          "base_uri": "https://localhost:8080/"
        },
        "id": "ehKfvTKrKZtK",
        "outputId": "e355ac43-f3d6-41ee-9880-83a59bf66f9c"
      },
      "execution_count": null,
      "outputs": [
        {
          "output_type": "stream",
          "name": "stdout",
          "text": [
            "(1, 2)\n"
          ]
        }
      ]
    },
    {
      "cell_type": "code",
      "source": [
        "# в один проход с помощью хэш-таблицы\n",
        "class Solution:\n",
        "    def twoSum(self, nums: List[int], target: int) -> List[int]:\n",
        "      hashmap = {}\n",
        "      for i in range(len(nums)):\n",
        "        other = target - nums[i]\n",
        "        if other in  hashmap and hashmap[other] != i:\n",
        "          return i, other, hashmap\n",
        "        hashmap[nums[i]] = i"
      ],
      "metadata": {
        "id": "ZyPEK1pPKnS2"
      },
      "execution_count": null,
      "outputs": []
    },
    {
      "cell_type": "code",
      "source": [
        "nums, target = [2,7,11,15], 9\n",
        "print(Solution().twoSum(nums, target))"
      ],
      "metadata": {
        "colab": {
          "base_uri": "https://localhost:8080/"
        },
        "id": "T8NIUzhYPwkz",
        "outputId": "7e8db25d-51f1-44fd-a440-9ed35149c4dc"
      },
      "execution_count": null,
      "outputs": [
        {
          "output_type": "stream",
          "name": "stdout",
          "text": [
            "(1, 2, {2: 0})\n"
          ]
        }
      ]
    },
    {
      "cell_type": "markdown",
      "source": [
        "# 704 Binary search\n",
        "https://leetcode.com/problems/binary-search\n",
        "\n",
        "Понятное дело, в начале я воспользовался подходом - перебоать все и резльтат записать в хэш-таблицу (O(n). Кстати, данное решение было принято литкодом.\n",
        "\n",
        "Но так как в условиях задачи сказано, что список отсортированный, то стоит воспользоваться данной информацией и реализовать классический алогоритм двоичного (бинарного) поиска (O(log n))\n",
        "https://leetcode.com/problems/binary-search/solutions/423162/binary-search-101/\n",
        "\n",
        "При кажущейся простоте, при реализации бинарного поиска очень много важных нюансов:\n",
        "- установка первоначальных пределов (right = n или n - 1)\n",
        "- условие while (left < right или left <= right). Перекликается с предыдущим пунктом\n",
        "- определение среднего индекса для исключения overflow. Лучше всего left + (right-left)//2. Где // - целочисленное деление.\n",
        "\n",
        "![image.png](https://assets.leetcode.com/static_assets/posts/1EYkSkQaoduFBhpCVx7nyEA.gif)"
      ],
      "metadata": {
        "id": "LitH7bGkP4pl"
      }
    },
    {
      "cell_type": "code",
      "source": [
        "class Solution:\n",
        "    def search(self, nums: List[int], target: int) -> int:\n",
        "      hashmap = {}\n",
        "      for i in range(len(nums)):\n",
        "        hashmap[nums[i]] = i\n",
        "      if target in hashmap.keys():\n",
        "        return hashmap[target]   \n",
        "      else:\n",
        "        return -1\n"
      ],
      "metadata": {
        "id": "g0o2Y0xgxSb5"
      },
      "execution_count": null,
      "outputs": []
    },
    {
      "cell_type": "code",
      "source": [
        "%%time\n",
        "nums, target = [-1,0,3,5,9,12], 9\n",
        "print(Solution().search(nums, target))"
      ],
      "metadata": {
        "colab": {
          "base_uri": "https://localhost:8080/"
        },
        "id": "7ejwsSsdxYMn",
        "outputId": "daa3913e-0d89-4118-9fbb-afce7934fa47"
      },
      "execution_count": null,
      "outputs": [
        {
          "output_type": "stream",
          "name": "stdout",
          "text": [
            "4\n",
            "CPU times: user 631 µs, sys: 0 ns, total: 631 µs\n",
            "Wall time: 603 µs\n"
          ]
        }
      ]
    },
    {
      "cell_type": "code",
      "source": [
        "class Solution:\n",
        "    def search(self, nums: List[int], target: int) -> int:\n",
        "      left = 0\n",
        "      right = len(nums) - 1\n",
        "      while left <= right:\n",
        "        mid = left + (right - left) // 2\n",
        "        if nums[mid] == target:\n",
        "          return mid\n",
        "        elif nums[mid] < target:\n",
        "          left = mid + 1\n",
        "        else:\n",
        "          right = mid - 1\n",
        "      return -1 "
      ],
      "metadata": {
        "id": "5Jlvs4K5be7j"
      },
      "execution_count": null,
      "outputs": []
    },
    {
      "cell_type": "code",
      "source": [
        "%%time\n",
        "nums, target = [-1,0,3,5,9,12], 9\n",
        "print(Solution().search(nums, target))"
      ],
      "metadata": {
        "colab": {
          "base_uri": "https://localhost:8080/"
        },
        "id": "FuR0Mrz3bfpD",
        "outputId": "287f956c-c54a-448e-9b04-9920328c9cae"
      },
      "execution_count": null,
      "outputs": [
        {
          "output_type": "stream",
          "name": "stdout",
          "text": [
            "4\n",
            "CPU times: user 1.23 ms, sys: 0 ns, total: 1.23 ms\n",
            "Wall time: 1.25 ms\n"
          ]
        }
      ]
    },
    {
      "cell_type": "markdown",
      "source": [
        "# 35 Search Insert Position\n",
        "https://leetcode.com/problems/search-insert-position\n",
        "\n",
        "Вариация задачи бинарного поиска"
      ],
      "metadata": {
        "id": "2gJZCVj3qpgx"
      }
    },
    {
      "cell_type": "code",
      "source": [
        "class Solution:\n",
        "    def searchInsert(self, nums: List[int], target: int) -> int:\n",
        "      left = 0\n",
        "      right = len(nums) \n",
        "      while left < right:\n",
        "        mid = left + (right - left) // 2\n",
        "        if nums[mid] == target:\n",
        "          return mid\n",
        "        elif nums[mid] < target:\n",
        "          left = mid + 1\n",
        "        else:\n",
        "          right = mid\n",
        "      return left \n",
        "\n"
      ],
      "metadata": {
        "id": "41ac_xg1kgQP"
      },
      "execution_count": null,
      "outputs": []
    },
    {
      "cell_type": "code",
      "source": [
        "%%time\n",
        "nums, target = [1,3,5,6,8,9], 7\n",
        "print(Solution().searchInsert(nums, target))"
      ],
      "metadata": {
        "colab": {
          "base_uri": "https://localhost:8080/"
        },
        "id": "HbW_7NJDpvbG",
        "outputId": "924e449f-5d51-46ee-b74a-ba45a7c0284a"
      },
      "execution_count": null,
      "outputs": [
        {
          "output_type": "stream",
          "name": "stdout",
          "text": [
            "4\n",
            "CPU times: user 1.72 ms, sys: 0 ns, total: 1.72 ms\n",
            "Wall time: 1.69 ms\n"
          ]
        }
      ]
    },
    {
      "cell_type": "markdown",
      "source": [
        "# 977 Squares of a Sorted Array\n",
        "https://leetcode.com/problems/squares-of-a-sorted-array\n",
        "\n",
        "Как всегда можно решить brute force O(n). Тут кстати два варианта -  изменять существующий список или создавать новый.\n",
        "\n",
        "А можно более оптимальным методом двух указателей (two pointers).  \n",
        "Смысл в следующем:\n",
        "- инициируем два указателя. В нашем случае первый и последний элемент списка;\n",
        "- создаем пустой список размерностью n, и инициируем его индекс, равный последнему элементу (n). Так как самое большое число в результирующем списке будет слева. \n",
        "- сравниваем модули элементов списка по указателям. Значение с наибольшим модулем кладем в наше результирующий список в конец. Двигаем указатель с наибольшим значением навстречу другому. И уменьшаем на 1 значение индекса результирующего списка.\n",
        "- повторяем while указатель 1 <= указатель 2\n",
        "\n",
        "![image.png](https://miro.medium.com/max/1400/1*BkkwH9kuXu6pLbjHwtFzBQ.webp)"
      ],
      "metadata": {
        "id": "gABXLmIy2s9n"
      }
    },
    {
      "cell_type": "code",
      "source": [
        "# brute force O(n)\n",
        "class Solution:\n",
        "    def sortedSquares(self, nums: List[int]) -> List[int]:\n",
        "      squares = []\n",
        "      for n in nums:\n",
        "        squares.append(n**2)\n",
        "      return squares, sorted(squares)\n"
      ],
      "metadata": {
        "id": "ZAJSDm-mp4H3"
      },
      "execution_count": null,
      "outputs": []
    },
    {
      "cell_type": "code",
      "source": [
        "# brute force O(n) with list comprehension\n",
        "class Solution:\n",
        "    def sortedSquares(self, nums: List[int]) -> List[int]:\n",
        "      return sorted([n**2 for n in nums])"
      ],
      "metadata": {
        "id": "GpvB2zSHBJEy"
      },
      "execution_count": null,
      "outputs": []
    },
    {
      "cell_type": "code",
      "source": [
        "nums = [-4,-1,0,3,10]\n",
        "print(Solution().sortedSquares(nums))"
      ],
      "metadata": {
        "colab": {
          "base_uri": "https://localhost:8080/"
        },
        "id": "JOpuDBcD2rqQ",
        "outputId": "1012e0fa-3b8d-460a-9c18-b8be2ae428af"
      },
      "execution_count": null,
      "outputs": [
        {
          "output_type": "stream",
          "name": "stdout",
          "text": [
            "[0, 1, 9, 16, 100]\n"
          ]
        }
      ]
    },
    {
      "cell_type": "code",
      "source": [
        "class Solution:\n",
        "    def sortedSquares(self, nums: List[int]) -> List[int]:\n",
        "      n = len(nums)\n",
        "      left = 0\n",
        "      right = n - 1\n",
        "      index = n - 1\n",
        "      res = [0] * n\n",
        "      while left <= right:\n",
        "        if abs(nums[right]) > abs(nums[left]):\n",
        "          res[index] = nums[right]**2\n",
        "          right -= 1\n",
        "        else:\n",
        "          res[index] = nums[left]**2\n",
        "          left += 1\n",
        "        index -= 1  \n",
        "      return res\n",
        "\n"
      ],
      "metadata": {
        "id": "tEJ2uwPN4SBU"
      },
      "execution_count": null,
      "outputs": []
    },
    {
      "cell_type": "code",
      "source": [
        "nums = [-4,-1,0,3,10]\n",
        "print(Solution().sortedSquares(nums))"
      ],
      "metadata": {
        "colab": {
          "base_uri": "https://localhost:8080/"
        },
        "id": "-YMUh2AH8pXK",
        "outputId": "37ed36e3-0989-4134-bf94-72c3010eb224"
      },
      "execution_count": null,
      "outputs": [
        {
          "output_type": "stream",
          "name": "stdout",
          "text": [
            "[0, 1, 9, 16, 100]\n"
          ]
        }
      ]
    },
    {
      "cell_type": "markdown",
      "source": [
        "# 283 Move zeros\n",
        "https://leetcode.com/problems/move-zeroes/"
      ],
      "metadata": {
        "id": "XxoPfvne8qlM"
      }
    },
    {
      "cell_type": "code",
      "source": [
        "# решение, если возвращать новый массив\n",
        "class Solution:\n",
        "    def moveZeroes(self, nums: List[int]) -> None:\n",
        "      n = len(nums)\n",
        "      res = [0]*n\n",
        "      left = 0\n",
        "      right = n - 1\n",
        "      for num in nums:\n",
        "        if num == 0:\n",
        "          res[right] = 0\n",
        "          right -= 1\n",
        "        else:\n",
        "          res[left] = num\n",
        "          left += 1\n",
        "      return res\n",
        "\n",
        "      \n",
        "      \n"
      ],
      "metadata": {
        "id": "24pPGBlljUX2"
      },
      "execution_count": null,
      "outputs": []
    },
    {
      "cell_type": "code",
      "source": [
        "nums = [0,1,0,3,12]\n",
        "print(Solution().moveZeroes(nums))"
      ],
      "metadata": {
        "colab": {
          "base_uri": "https://localhost:8080/"
        },
        "id": "-fr1b2eYjVUB",
        "outputId": "3eeb6c31-4af5-46fc-b52f-22788abf7f69"
      },
      "execution_count": null,
      "outputs": [
        {
          "output_type": "stream",
          "name": "stdout",
          "text": [
            "[1, 3, 12, 0, 0]\n"
          ]
        }
      ]
    },
    {
      "cell_type": "code",
      "source": [
        "# мое решение, если модифицировать искходный список\n",
        "class Solution:\n",
        "    def moveZeroes(self, nums: List[int]) -> None:\n",
        "      n = len(nums)\n",
        "      left = 0\n",
        "      right = n - 1\n",
        "      while left < right:\n",
        "        if nums[left] == 0:\n",
        "          nums.insert(right, nums.pop(left))\n",
        "          right -= 1\n",
        "        else:\n",
        "          left += 1\n",
        "        print(nums)\n",
        "      \n",
        "\n",
        "\n"
      ],
      "metadata": {
        "id": "_RHy6Gg1jdbK"
      },
      "execution_count": null,
      "outputs": []
    },
    {
      "cell_type": "code",
      "source": [
        "nums = [0,1,0,3,0,0,5,6,7,12]\n",
        "print(Solution().moveZeroes(nums))\n",
        "nums"
      ],
      "metadata": {
        "colab": {
          "base_uri": "https://localhost:8080/"
        },
        "id": "nlTbFRdGonk3",
        "outputId": "fa7bd3cc-967f-4b55-d1db-96a8a4d4bf50"
      },
      "execution_count": null,
      "outputs": [
        {
          "output_type": "stream",
          "name": "stdout",
          "text": [
            "[1, 0, 3, 0, 0, 5, 6, 7, 12, 0]\n",
            "[1, 0, 3, 0, 0, 5, 6, 7, 12, 0]\n",
            "[1, 3, 0, 0, 5, 6, 7, 12, 0, 0]\n",
            "[1, 3, 0, 0, 5, 6, 7, 12, 0, 0]\n",
            "[1, 3, 0, 5, 6, 7, 12, 0, 0, 0]\n",
            "[1, 3, 5, 6, 7, 12, 0, 0, 0, 0]\n",
            "[1, 3, 5, 6, 7, 12, 0, 0, 0, 0]\n",
            "[1, 3, 5, 6, 7, 12, 0, 0, 0, 0]\n",
            "[1, 3, 5, 6, 7, 12, 0, 0, 0, 0]\n",
            "None\n"
          ]
        },
        {
          "output_type": "execute_result",
          "data": {
            "text/plain": [
              "[1, 3, 5, 6, 7, 12, 0, 0, 0, 0]"
            ]
          },
          "metadata": {},
          "execution_count": 21
        }
      ]
    },
    {
      "cell_type": "code",
      "source": [
        "# еще одно решение с литкода\n",
        "class Solution:\n",
        "    def moveZeroes(self, nums: List[int]) -> None:\n",
        "      pos = 0 \n",
        "      for i in range(len(nums)):\n",
        "        if nums[i] != 0:\n",
        "          nums[pos], nums[i] = nums[i], nums[pos]\n",
        "          pos += 1\n",
        "        print(nums)\n"
      ],
      "metadata": {
        "id": "tK7aPZd8pz3Y"
      },
      "execution_count": null,
      "outputs": []
    },
    {
      "cell_type": "code",
      "source": [
        "nums = [0,1,0,3,0,0,5,6,7,12]\n",
        "print(Solution().moveZeroes(nums))\n",
        "nums"
      ],
      "metadata": {
        "colab": {
          "base_uri": "https://localhost:8080/"
        },
        "id": "FCrPgkXSsOY3",
        "outputId": "56b46635-c2ea-4fad-b565-08bbb89cf86d"
      },
      "execution_count": null,
      "outputs": [
        {
          "output_type": "stream",
          "name": "stdout",
          "text": [
            "[0, 1, 0, 3, 0, 0, 5, 6, 7, 12]\n",
            "[1, 0, 0, 3, 0, 0, 5, 6, 7, 12]\n",
            "[1, 0, 0, 3, 0, 0, 5, 6, 7, 12]\n",
            "[1, 3, 0, 0, 0, 0, 5, 6, 7, 12]\n",
            "[1, 3, 0, 0, 0, 0, 5, 6, 7, 12]\n",
            "[1, 3, 0, 0, 0, 0, 5, 6, 7, 12]\n",
            "[1, 3, 5, 0, 0, 0, 0, 6, 7, 12]\n",
            "[1, 3, 5, 6, 0, 0, 0, 0, 7, 12]\n",
            "[1, 3, 5, 6, 7, 0, 0, 0, 0, 12]\n",
            "[1, 3, 5, 6, 7, 12, 0, 0, 0, 0]\n",
            "None\n"
          ]
        },
        {
          "output_type": "execute_result",
          "data": {
            "text/plain": [
              "[1, 3, 5, 6, 7, 12, 0, 0, 0, 0]"
            ]
          },
          "metadata": {},
          "execution_count": 19
        }
      ]
    },
    {
      "cell_type": "code",
      "source": [
        "class Solution:\n",
        "    def moveZeroes(self, nums: list) -> None:\n",
        "        slow = 0\n",
        "        for fast in range(len(nums)):\n",
        "            if nums[fast] != 0 and nums[slow] == 0:\n",
        "                nums[slow], nums[fast] = nums[fast], nums[slow]\n",
        "\n",
        "            # wait while we find a non-zero element to\n",
        "            # swap with you\n",
        "            if nums[slow] != 0:\n",
        "                slow += 1   \n",
        "            print(fast, slow)\n",
        "        "
      ],
      "metadata": {
        "id": "1dxtNsiAsZ0R"
      },
      "execution_count": null,
      "outputs": []
    },
    {
      "cell_type": "code",
      "source": [
        "nums = [0,1,0,3,0,0,5,6,7,12]\n",
        "print(Solution().moveZeroes(nums))\n",
        "nums"
      ],
      "metadata": {
        "colab": {
          "base_uri": "https://localhost:8080/"
        },
        "id": "RXVcqCocZ32Q",
        "outputId": "7f3014bb-0f93-442a-e579-1f0f9e5cb63f"
      },
      "execution_count": null,
      "outputs": [
        {
          "output_type": "stream",
          "name": "stdout",
          "text": [
            "0 0\n",
            "1 1\n",
            "2 1\n",
            "3 2\n",
            "4 2\n",
            "5 2\n",
            "6 3\n",
            "7 4\n",
            "8 5\n",
            "9 6\n",
            "None\n"
          ]
        },
        {
          "output_type": "execute_result",
          "data": {
            "text/plain": [
              "[1, 3, 5, 6, 7, 12, 0, 0, 0, 0]"
            ]
          },
          "metadata": {},
          "execution_count": 17
        }
      ]
    },
    {
      "cell_type": "markdown",
      "source": [
        "# 189 Rotate Array (MEDIUM)\n",
        "Реализовал с помощью двух указателей.  \n",
        "Но не понял требуемую задачей логику при условии k > длина списка.  \n",
        "Этот вопрос решает преобразование k в остаток от деления k на n. Если k < n, то k не меняется.  \n",
        "Есть мнение, что каждый insert это O(n) (только append и pop O(n)), \n",
        "соответственно решение с двумя срезами гораздо оптимальнее \n",
        "\n",
        "\n",
        "https://leetcode.com/problems/rotate-array/?envType=study-plan&id=algorithm-i"
      ],
      "metadata": {
        "id": "YW-D9YWnZ41o"
      }
    },
    {
      "cell_type": "code",
      "source": [
        "class Solution:\n",
        "    def rotate(self, nums: List[int], k: int) -> None:\n",
        "        left = 0\n",
        "        n = len(nums)\n",
        "        k = k % n\n",
        "        for i in range((n-k), n):\n",
        "          nums.insert(left, nums.pop(i))\n",
        "          left += 1\n",
        "        "
      ],
      "metadata": {
        "id": "_fsty5VLuVbU"
      },
      "execution_count": null,
      "outputs": []
    },
    {
      "cell_type": "code",
      "source": [
        "nums, k = [1,2,3,4,5,6,7], 3\n",
        "print(Solution().rotate(nums, k))\n",
        "nums"
      ],
      "metadata": {
        "colab": {
          "base_uri": "https://localhost:8080/"
        },
        "id": "f1yl_Hu0uX7i",
        "outputId": "96814ab8-be07-4733-c059-bb99ee2b1c22"
      },
      "execution_count": null,
      "outputs": [
        {
          "output_type": "stream",
          "name": "stdout",
          "text": [
            "None\n"
          ]
        },
        {
          "output_type": "execute_result",
          "data": {
            "text/plain": [
              "[5, 6, 7, 1, 2, 3, 4]"
            ]
          },
          "metadata": {},
          "execution_count": 34
        }
      ]
    },
    {
      "cell_type": "code",
      "source": [
        "# submission testcase 1\n",
        "nums, k = [1,2], 3\n",
        "print(Solution().rotate(nums, k))\n",
        "nums"
      ],
      "metadata": {
        "colab": {
          "base_uri": "https://localhost:8080/"
        },
        "id": "AsjttdXbvj3s",
        "outputId": "e60afb05-34d2-4bcd-c907-892de8f9d971"
      },
      "execution_count": null,
      "outputs": [
        {
          "output_type": "stream",
          "name": "stdout",
          "text": [
            "None\n"
          ]
        },
        {
          "output_type": "execute_result",
          "data": {
            "text/plain": [
              "[2, 1]"
            ]
          },
          "metadata": {},
          "execution_count": 61
        }
      ]
    },
    {
      "cell_type": "code",
      "source": [
        "# submission testcase 2\n",
        "nums, k = [1,2,3], 4\n",
        "print(Solution().rotate(nums, k))\n",
        "nums"
      ],
      "metadata": {
        "colab": {
          "base_uri": "https://localhost:8080/"
        },
        "id": "c-uGPUZ2ypvM",
        "outputId": "50621191-c0f3-43a4-c4c4-bbc4b565fa1d"
      },
      "execution_count": null,
      "outputs": [
        {
          "output_type": "stream",
          "name": "stdout",
          "text": [
            "None\n"
          ]
        },
        {
          "output_type": "execute_result",
          "data": {
            "text/plain": [
              "[3, 1, 2]"
            ]
          },
          "metadata": {},
          "execution_count": 62
        }
      ]
    },
    {
      "cell_type": "code",
      "source": [
        "# решение с литкода более простое и быстрое с исполльзованием среза\n",
        "class Solution:\n",
        "    def rotate(self, nums, k):\n",
        "        n = len(nums)\n",
        "        k = k % n\n",
        "        nums[:] = nums[n-k:] + nums[:n-k]\n"
      ],
      "metadata": {
        "id": "9T8Prfbe0DOT"
      },
      "execution_count": null,
      "outputs": []
    },
    {
      "cell_type": "code",
      "source": [
        "nums, k = [1,2,3,4,5,6,7], 3\n",
        "print(Solution().rotate(nums, k))\n",
        "nums"
      ],
      "metadata": {
        "id": "pMfXf2K95FcG"
      },
      "execution_count": null,
      "outputs": []
    },
    {
      "cell_type": "markdown",
      "source": [
        "Комментарий по поводу nums[:] а не nums:  \n",
        "Under the hood, s[:] = is editing the actual memory bytes s points to, and s = points the variable name s to other bytes in the memory."
      ],
      "metadata": {
        "id": "NxsqtA1qlGYg"
      }
    },
    {
      "cell_type": "markdown",
      "source": [
        "# 344 Reverse String\n",
        "https://leetcode.com/problems/reverse-string/\n",
        "\n",
        "Тут все решается классическим шаблоном двух указателей идущим одновременно навстречу друг другу.\n",
        "\n",
        "Интересная запись перестановки элементов, нужно ее запомнить\n",
        "```\n",
        "list[i], list[j] = list[j], list[i]\n",
        "```\n",
        "Простое ```list[i] = list[j]``` просто делает из i-го элемента j"
      ],
      "metadata": {
        "id": "g0CJwISce65P"
      }
    },
    {
      "cell_type": "code",
      "source": [
        "class Solution:\n",
        "    def reverseString(self, s: List[str]) -> None:\n",
        "        \"\"\"\n",
        "        Do not return anything, modify s in-place instead.\n",
        "        \"\"\"\n",
        "        n = len(s)\n",
        "        left = 0\n",
        "        right = n-1\n",
        "        while left < right:\n",
        "          s[left], s[right] = s[right], s[left] \n",
        "          left += 1\n",
        "          right -= 1"
      ],
      "metadata": {
        "id": "hCGh4xG7fP6z"
      },
      "execution_count": null,
      "outputs": []
    },
    {
      "cell_type": "code",
      "source": [
        "s = [\"h\",\"e\",\"l\",\"l\",\"o\"]\n",
        "print(Solution().reverseString(s))\n",
        "s\n"
      ],
      "metadata": {
        "colab": {
          "base_uri": "https://localhost:8080/"
        },
        "id": "F_zUF0HNfTeu",
        "outputId": "17b66fa2-a725-43aa-933d-c80e42bc6dba"
      },
      "execution_count": null,
      "outputs": [
        {
          "output_type": "stream",
          "name": "stdout",
          "text": [
            "None\n"
          ]
        },
        {
          "output_type": "execute_result",
          "data": {
            "text/plain": [
              "['o', 'l', 'l', 'e', 'h']"
            ]
          },
          "metadata": {},
          "execution_count": 38
        }
      ]
    },
    {
      "cell_type": "code",
      "source": [
        "s = [\"H\",\"a\",\"n\",\"n\",\"a\",\"h\"]\n",
        "print(Solution().reverseString(s))\n",
        "s\n"
      ],
      "metadata": {
        "colab": {
          "base_uri": "https://localhost:8080/"
        },
        "id": "z6igq40khcxq",
        "outputId": "662948e0-752e-45ab-ec5e-44e10084c067"
      },
      "execution_count": null,
      "outputs": [
        {
          "output_type": "stream",
          "name": "stdout",
          "text": [
            "None\n"
          ]
        },
        {
          "output_type": "execute_result",
          "data": {
            "text/plain": [
              "['h', 'a', 'n', 'n', 'a', 'H']"
            ]
          },
          "metadata": {},
          "execution_count": 39
        }
      ]
    },
    {
      "cell_type": "markdown",
      "source": [
        "А теперь внимание, самое простое решение!  \n",
        "С помощью обчыного среза:\n",
        "```\n",
        "<object_name>[<start_index>, <stop_index>, <step>]```"
      ],
      "metadata": {
        "id": "LW7Cni7nmBCX"
      }
    },
    {
      "cell_type": "code",
      "source": [
        "s = [\"h\",\"e\",\"l\",\"l\",\"o\"]\n",
        "s[::-1]"
      ],
      "metadata": {
        "colab": {
          "base_uri": "https://localhost:8080/"
        },
        "id": "USEB76hvheds",
        "outputId": "dacee022-4b97-41e9-a64e-28cfcab888ea"
      },
      "execution_count": null,
      "outputs": [
        {
          "output_type": "execute_result",
          "data": {
            "text/plain": [
              "['o', 'l', 'l', 'e', 'h']"
            ]
          },
          "metadata": {},
          "execution_count": 44
        }
      ]
    },
    {
      "cell_type": "code",
      "source": [
        "s = [\"h\",\"e\",\"l\",\"l\",\"o\"]\n",
        "s[::2]"
      ],
      "metadata": {
        "colab": {
          "base_uri": "https://localhost:8080/"
        },
        "id": "EiGekUTJldQ2",
        "outputId": "0518627c-c695-4b10-ae69-1d77585a7348"
      },
      "execution_count": null,
      "outputs": [
        {
          "output_type": "execute_result",
          "data": {
            "text/plain": [
              "['h', 'l', 'o']"
            ]
          },
          "metadata": {},
          "execution_count": 45
        }
      ]
    },
    {
      "cell_type": "markdown",
      "source": [
        "# 557 Reverse Words in a String III\n",
        "https://leetcode.com/problems/reverse-words-in-a-string-iii\n",
        "\n",
        "Порядок решения:\n",
        "- разбиваем предложение на список слов методом split;\n",
        "- в цикле для кажого слова разбиваем его на символы с помощью list comprehension и меняем порядок символов с помощью среза;\n",
        "- джоиним слова через пробел обратно в предложение.\n",
        "\n",
        "В итоге оказалось, что разбиенеие слова на буквы, с помощью list comprehansion оказалось излишним. Слово можно \"развернуть\" и не разбивая его на список из элементов-букв\n"
      ],
      "metadata": {
        "id": "vDNPUtWAmLB6"
      }
    },
    {
      "cell_type": "code",
      "source": [
        "class Solution:\n",
        "    def reverseWords(self, s: str) -> str:\n",
        "      splited = s.split(' ')\n",
        "      for n in range(len(splited)):\n",
        "        splited[n] = ''.join([x for x in splited[n]][::-1])\n",
        "      return ' '.join(splited)\n",
        "      "
      ],
      "metadata": {
        "id": "kct2iq34m9Ev"
      },
      "execution_count": null,
      "outputs": []
    },
    {
      "cell_type": "code",
      "source": [
        "s = \"Let's take LeetCode contest\"\n",
        "Solution().reverseWords(s)\n"
      ],
      "metadata": {
        "colab": {
          "base_uri": "https://localhost:8080/",
          "height": 36
        },
        "id": "LCdQ3WoGnADU",
        "outputId": "1ed3de18-bd95-4de9-b64e-67d3b4da8eae"
      },
      "execution_count": null,
      "outputs": [
        {
          "output_type": "execute_result",
          "data": {
            "text/plain": [
              "\"s'teL ekat edoCteeL tsetnoc\""
            ],
            "application/vnd.google.colaboratory.intrinsic+json": {
              "type": "string"
            }
          },
          "metadata": {},
          "execution_count": 73
        }
      ]
    },
    {
      "cell_type": "code",
      "source": [
        "s = \"Let's take LeetCode contest\"\n",
        "word = s.split(' ')[0]\n",
        "word[::-1]"
      ],
      "metadata": {
        "colab": {
          "base_uri": "https://localhost:8080/",
          "height": 36
        },
        "id": "DpEYZhrG2OD2",
        "outputId": "90d71cae-ffd9-42c2-ae11-b8cddc91f7eb"
      },
      "execution_count": null,
      "outputs": [
        {
          "output_type": "execute_result",
          "data": {
            "text/plain": [
              "\"s'teL\""
            ],
            "application/vnd.google.colaboratory.intrinsic+json": {
              "type": "string"
            }
          },
          "metadata": {},
          "execution_count": 85
        }
      ]
    },
    {
      "cell_type": "code",
      "source": [
        "# можно упростить\n",
        "class Solution:\n",
        "    def reverseWords(self, s: str) -> str:\n",
        "      return ' '.join([word[::-1] for word in s.split(' ')])"
      ],
      "metadata": {
        "id": "W8pqC6UGurID"
      },
      "execution_count": null,
      "outputs": []
    },
    {
      "cell_type": "code",
      "source": [
        "s = \"Let's take LeetCode contest\"\n",
        "Solution().reverseWords(s)"
      ],
      "metadata": {
        "colab": {
          "base_uri": "https://localhost:8080/",
          "height": 36
        },
        "id": "NjTX2Ujs19jC",
        "outputId": "14e3e84f-48c0-4523-e161-bf87b3c9e9cb"
      },
      "execution_count": null,
      "outputs": [
        {
          "output_type": "execute_result",
          "data": {
            "text/plain": [
              "\"s'teL ekat edoCteeL tsetnoc\""
            ],
            "application/vnd.google.colaboratory.intrinsic+json": {
              "type": "string"
            }
          },
          "metadata": {},
          "execution_count": 81
        }
      ]
    },
    {
      "cell_type": "markdown",
      "source": [
        "# 167 Two Sum II - Input Array Is Sorted\n",
        "https://leetcode.com/problems/two-sum-ii-input-array-is-sorted\n",
        "\n",
        "Данную задачу можно решить как минимум четырьмя методами:\n",
        "- brute force;\n",
        "- два указателя;\n",
        "- бинарный поиск (так как у нас отсортированный массив)\n",
        "- словарь\n",
        "\n",
        "В решениях подсмотрел полезную идею итерироваться по типу enumerate (вместо привычного мне range(len()).  \n",
        "Таким образом идем одновременно по индексу и по значению из списка nums.\n",
        "Выглядит боллее красиво.\n",
        "\n",
        "Но я так и не понял, почему у меня не заработало решение из аналогичной задачи 1 Two Sum.\n",
        "\n",
        "Для двух указателей оптимальней будет применять условие while nums[i] + nums[j] != target, вместо обычного while i < j,  \n",
        " так как по условию задачи у нас только одно решение и не обязательно ждать пока сойдутся указатели   "
      ],
      "metadata": {
        "id": "fcIbilcz8nIr"
      }
    },
    {
      "cell_type": "code",
      "source": [
        "# Не понимаю, почему у меня не работает это решение, принятое для задачи 1\n",
        "\n",
        "class Solution:\n",
        "    def twoSum(self, numbers: List[int], target: int) -> List[int]:\n",
        "      seen  = {}\n",
        "      for i in range(len(numbers)):\n",
        "        remaining = target - numbers[i] \n",
        "        if remaining in seen and seen[remaining] != i:\n",
        "          return [i+1, remaining+1], seen\n",
        "        else:\n",
        "          seen[numbers[i]] = i"
      ],
      "metadata": {
        "id": "m19IkjlpSM54"
      },
      "execution_count": null,
      "outputs": []
    },
    {
      "cell_type": "code",
      "source": [
        "nums, target = [2,7,11,15], 9\n",
        "Solution().twoSum(nums, target)"
      ],
      "metadata": {
        "colab": {
          "base_uri": "https://localhost:8080/"
        },
        "id": "ZLLD_5NDZ37E",
        "outputId": "bac68139-4027-47d9-9d99-bb97c1fa9d8f"
      },
      "execution_count": null,
      "outputs": [
        {
          "output_type": "execute_result",
          "data": {
            "text/plain": [
              "([2, 3], {2: 0})"
            ]
          },
          "metadata": {},
          "execution_count": 26
        }
      ]
    },
    {
      "cell_type": "code",
      "source": [
        "nums, target = [2,3,4], 6\n",
        "Solution().twoSum(nums, target)"
      ],
      "metadata": {
        "colab": {
          "base_uri": "https://localhost:8080/"
        },
        "id": "0qEDrb1ZSS5Y",
        "outputId": "937fd77f-f098-4bc1-c210-b677d61434fc"
      },
      "execution_count": null,
      "outputs": [
        {
          "output_type": "execute_result",
          "data": {
            "text/plain": [
              "([3, 3], {2: 0, 3: 1})"
            ]
          },
          "metadata": {},
          "execution_count": 12
        }
      ]
    },
    {
      "cell_type": "code",
      "source": [
        "list(enumerate(nums))"
      ],
      "metadata": {
        "colab": {
          "base_uri": "https://localhost:8080/"
        },
        "id": "WIw2q2jm9txF",
        "outputId": "3fdb2890-d6ca-4f44-81f4-71821ac3cf8d"
      },
      "execution_count": null,
      "outputs": [
        {
          "output_type": "execute_result",
          "data": {
            "text/plain": [
              "[(0, 2), (1, 3), (2, 4)]"
            ]
          },
          "metadata": {},
          "execution_count": 13
        }
      ]
    },
    {
      "cell_type": "code",
      "source": [
        "class Solution:\n",
        "    def twoSum(self, numbers: List[int], target: int) -> List[int]:\n",
        "      seen  = {}\n",
        "      for i, num in enumerate(numbers):\n",
        "        remaining = target - num\n",
        "        if remaining in seen:\n",
        "          return [seen[remaining]+1, i+1], seen          \n",
        "        else:\n",
        "          seen[num] = i\n"
      ],
      "metadata": {
        "id": "uVBs2sGoELG4"
      },
      "execution_count": null,
      "outputs": []
    },
    {
      "cell_type": "code",
      "source": [
        " nums, target = [2,3,4], 6\n",
        " Solution().twoSum(nums, target)"
      ],
      "metadata": {
        "colab": {
          "base_uri": "https://localhost:8080/"
        },
        "id": "Ra0bLwzUGpOQ",
        "outputId": "c20caf3f-3ef9-4a96-c1cf-7420191ffd0f"
      },
      "execution_count": null,
      "outputs": [
        {
          "output_type": "execute_result",
          "data": {
            "text/plain": [
              "([1, 3], {2: 0, 3: 1, 4: 2})"
            ]
          },
          "metadata": {},
          "execution_count": 19
        }
      ]
    },
    {
      "cell_type": "code",
      "source": [
        "# решим двумя указателями\n",
        "class Solution:\n",
        "    def twoSum(self, numbers: List[int], target: int) -> List[int]:\n",
        "      left = 0\n",
        "      right = len(numbers) - 1\n",
        "      while numbers[left] + numbers[right] != target:\n",
        "        if numbers[left] + numbers[right] > target:\n",
        "          right -= 1\n",
        "        else:\n",
        "          left += 1\n",
        "      return [left+1, right+1]"
      ],
      "metadata": {
        "id": "EZUhIR4-GsVM"
      },
      "execution_count": null,
      "outputs": []
    },
    {
      "cell_type": "code",
      "source": [
        " nums, target = [2,3,4], 6\n",
        " Solution().twoSum(nums, target)"
      ],
      "metadata": {
        "colab": {
          "base_uri": "https://localhost:8080/"
        },
        "id": "w5t4sWeMLkcd",
        "outputId": "597be510-3068-4344-9771-a2b9ecfcad4a"
      },
      "execution_count": null,
      "outputs": [
        {
          "output_type": "execute_result",
          "data": {
            "text/plain": [
              "[1, 3]"
            ]
          },
          "metadata": {},
          "execution_count": 37
        }
      ]
    },
    {
      "cell_type": "code",
      "source": [
        "nums, target = [2,7,11,15], 9\n",
        "Solution().twoSum(nums, target)"
      ],
      "metadata": {
        "colab": {
          "base_uri": "https://localhost:8080/"
        },
        "id": "Zi6-h6WrLpMH",
        "outputId": "c9547427-f45e-4407-d271-b1095b843962"
      },
      "execution_count": null,
      "outputs": [
        {
          "output_type": "execute_result",
          "data": {
            "text/plain": [
              "[1, 2]"
            ]
          },
          "metadata": {},
          "execution_count": 38
        }
      ]
    },
    {
      "cell_type": "code",
      "source": [
        "nums, target = [1,2,5,7,15], 9\n",
        "Solution().twoSum(nums, target)"
      ],
      "metadata": {
        "colab": {
          "base_uri": "https://localhost:8080/"
        },
        "id": "dK1-HzbEaKHG",
        "outputId": "e02a680b-6aa8-4227-dc02-cad32e46937c"
      },
      "execution_count": null,
      "outputs": [
        {
          "output_type": "execute_result",
          "data": {
            "text/plain": [
              "[2, 4]"
            ]
          },
          "metadata": {},
          "execution_count": 39
        }
      ]
    },
    {
      "cell_type": "markdown",
      "source": [
        "# 876 Middle of the Linked List\n",
        "https://leetcode.com/problems/middle-of-the-linked-list\n",
        "\n",
        "https://realpython.com/linked-lists-python/\n",
        "\n",
        "Тут я не понял прикола с классом Linked list и как с ним работать, но идея с поиском середины с помощью двух указателей интересная. Для Linked List мы заранее не знаем его длину, поэтому нам сначала придется проитерироваться по всем его узлам пока node.next существет (если он null, то это конец списка):\n",
        "- инициируем два указателя в начале списка - \"медленный\" и \"быстрый\";\n",
        "- каждую итерацию смещаем медленный указатель на один шаг, а быстрый - на два;\n",
        "- таким образом, когда быстрый указатель дойдет до конца, медленный окажется в середине списка"
      ],
      "metadata": {
        "id": "WcOYiNiblqKO"
      }
    },
    {
      "cell_type": "code",
      "source": [
        "# для linked list нельзя использовать len().\n",
        "class ListNode:\n",
        "    def __init__(self, val=0, next=None):\n",
        "        self.val = val\n",
        "        self.next = next\n",
        "\n",
        "class Solution:\n",
        "    def middleNode(self, head: Optional[ListNode]) -> Optional[ListNode]:\n",
        "            return head[len(head)//2:]"
      ],
      "metadata": {
        "id": "Zv3IBPg6c1DQ"
      },
      "execution_count": null,
      "outputs": []
    },
    {
      "cell_type": "code",
      "source": [
        "head = [1,2,3,4,5,6]\n",
        "Solution().middleNode(head)"
      ],
      "metadata": {
        "colab": {
          "base_uri": "https://localhost:8080/"
        },
        "id": "PsvPVz4Kdbrs",
        "outputId": "ca512e45-a42d-4dd3-8671-a51b79cb1f49"
      },
      "execution_count": null,
      "outputs": [
        {
          "output_type": "execute_result",
          "data": {
            "text/plain": [
              "[4, 5, 6]"
            ]
          },
          "metadata": {},
          "execution_count": 60
        }
      ]
    },
    {
      "cell_type": "code",
      "source": [
        "class ListNode:\n",
        "    def __init__(self, val=0, next=None):\n",
        "        self.val = val\n",
        "        self.next = next\n",
        "\n",
        "class Solution(object):\n",
        "    def middleNode(self, head):\n",
        "        # While slow moves one step forward, fast moves two steps forward.\n",
        "        # Finally, when fast reaches the end, slow happens to be in the middle of the linked list.\n",
        "        slow = fast = head\n",
        "        while fast and fast.next:\n",
        "            slow = slow.next\n",
        "            fast = fast.next.next\n",
        "        return slow"
      ],
      "metadata": {
        "id": "d-iiil60dsna"
      },
      "execution_count": null,
      "outputs": []
    },
    {
      "cell_type": "code",
      "source": [
        "ListNode([1, 2, 3])"
      ],
      "metadata": {
        "colab": {
          "base_uri": "https://localhost:8080/"
        },
        "id": "aoH2ufu4lt7T",
        "outputId": "7fd15c35-c416-4625-997f-72ffb599eeec"
      },
      "execution_count": null,
      "outputs": [
        {
          "output_type": "execute_result",
          "data": {
            "text/plain": [
              "<__main__.ListNode at 0x7faa37259af0>"
            ]
          },
          "metadata": {},
          "execution_count": 67
        }
      ]
    },
    {
      "cell_type": "markdown",
      "source": [
        "# 19 Remove Nth Node From End of List\n",
        "https://leetcode.com/problems/remove-nth-node-from-end-of-list\n",
        "\n",
        "- Итерируемся по списку двумя указателями;\n",
        "- для быстрого даем фору в n шагов. Таким образом когда быстрый дойдет до конца списка, медленный окажется на искомом n элементе с конца;\n",
        "- а вот что потом я не совсем понял\n",
        "\n",
        "https://leetcode.com/problems/remove-nth-node-from-end-of-list/solutions/1164542/js-python-java-c-easy-two-pointer-solution-w-explanation/"
      ],
      "metadata": {
        "id": "53Rl5Aya8vLc"
      }
    },
    {
      "cell_type": "code",
      "source": [
        "class Solution:\n",
        "  def removeNthFromEnd(self, head: ListNode, n: int) -> ListNode:\n",
        "    fast = slow = head\n",
        "    # для быстрого указателя даем фору в n шагов\n",
        "    for i in range(n):\n",
        "      fast = fast.next\n",
        "\n",
        "    # если n = длина списка\n",
        "    if not fast: \n",
        "      return head.next\n",
        "    \n",
        "    # итерируемся пока не дошли до конца\n",
        "    while fast.next:\n",
        "      fast, slow = fast.next, slow.next\n",
        "    slow.next = slow.next.next\n",
        "    return head"
      ],
      "metadata": {
        "id": "ZDVTz-fGA4WK"
      },
      "execution_count": null,
      "outputs": []
    },
    {
      "cell_type": "code",
      "source": [
        "# для преобразования list в linked list\n",
        "class ListNode:\n",
        "    def __init__(self, x):\n",
        "        self.val = x\n",
        "        self.next = None\n",
        "\n",
        "\n",
        "def lst2link(lst):\n",
        "    cur = dummy = ListNode(0)\n",
        "    for e in lst:\n",
        "        cur.next = ListNode(e)\n",
        "        cur = cur.next\n",
        "    return dummy.next"
      ],
      "metadata": {
        "id": "KfEh6uvUF3pC"
      },
      "execution_count": null,
      "outputs": []
    },
    {
      "cell_type": "code",
      "source": [
        "head, n = [1,2,3,4,5], 2"
      ],
      "metadata": {
        "id": "8L3tTbRmGDOO"
      },
      "execution_count": null,
      "outputs": []
    },
    {
      "cell_type": "code",
      "source": [
        "head = lst2link(head)"
      ],
      "metadata": {
        "id": "qZNHOHOZGBPT"
      },
      "execution_count": null,
      "outputs": []
    },
    {
      "cell_type": "code",
      "source": [
        "Solution().removeNthFromEnd(head, n)"
      ],
      "metadata": {
        "colab": {
          "base_uri": "https://localhost:8080/"
        },
        "id": "K8ZRkF2EGAah",
        "outputId": "d74f5f06-bf0f-43fb-84f6-94fbe2099d9e"
      },
      "execution_count": null,
      "outputs": [
        {
          "output_type": "stream",
          "name": "stdout",
          "text": [
            "<__main__.ListNode object at 0x7faa37259dc0>\n"
          ]
        }
      ]
    },
    {
      "cell_type": "markdown",
      "source": [
        "# 3 Longest Substring Without Repeating Characters (MEDIUM)\n",
        "https://leetcode.com/problems/longest-substring-without-repeating-characters\n",
        "\n",
        "Сначала попробовал подход с одним проходом и использованием словаря.\n",
        "При повторении символа я сохранял длину словаря и обнулял его. Понятное дело это работает не во всех случаях.\n",
        "\n",
        "Затем я попробовал не обнулять словарь, а делать срез по нему с помощью list comprehansion. Оставляя при этом словарь по сути в качестве окна. Из за специфики среза по словарю, время O(N**2)\n",
        "\n",
        "Более оптимальным решением является использования двух указателей в качестве границ окна:\n",
        "- Итерируясь по правому указателю, мы обновляем левый в случае, если уже встреченный символ лежит за границами окна (левее left)\n",
        "- В result мы храним и обнавляем максимальную ширину окна."
      ],
      "metadata": {
        "id": "ZHtyzcVJGYU5"
      }
    },
    {
      "cell_type": "code",
      "source": [
        "# здесь был какой то план, но он не сработал\n",
        "class Solution:\n",
        "    def lengthOfLongestSubstring(self, s: str) -> int:\n",
        "      hashtable = {}\n",
        "      streak = []\n",
        "      for i, character in enumerate(s):\n",
        "        if character in hashtable:\n",
        "          streak.append(len(hashtable))\n",
        "          hashtable = {}\n",
        "          hashtable[s[i-1]] = i-1\n",
        "          hashtable[character] = i\n",
        "        else:\n",
        "          hashtable[character] = i\n",
        "        print(hashtable, len(hashtable), streak)\n",
        "      streak.append(len(hashtable))\n",
        "      if len(streak) == 0:\n",
        "        return 0\n",
        "      else:\n",
        "        return max(streak)"
      ],
      "metadata": {
        "id": "LK-BUN0EIGbt"
      },
      "execution_count": null,
      "outputs": []
    },
    {
      "cell_type": "code",
      "source": [
        "# работает !\n",
        "class Solution:\n",
        "    def lengthOfLongestSubstring(self, s: str) -> int:\n",
        "      hashtable = {}\n",
        "      streak = []\n",
        "      for i, character in enumerate(s):\n",
        "        if character in hashtable:\n",
        "          streak.append(len(hashtable))\n",
        "          hashtable = dict([(key, hashtable[key]) for key in s[hashtable[character]:i+1]])\n",
        "        hashtable[character] = i\n",
        "        # print(hashtable, len(hashtable), streak)\n",
        "      streak.append(len(hashtable))\n",
        "      return max(0, max(streak)) # вторым max страхуемся от пустой строки на входе"
      ],
      "metadata": {
        "id": "t3LvK_jYLn9c"
      },
      "execution_count": null,
      "outputs": []
    },
    {
      "cell_type": "code",
      "source": [
        "# более оптимальное решение с окном без обновления словаря \n",
        "class Solution:\n",
        "    def lengthOfLongestSubstring(self, s: str) -> int:\n",
        "      hashtable = {}\n",
        "      left = 0\n",
        "      result = 0\n",
        "      for right, character in enumerate(s):\n",
        "        if character in hashtable:\n",
        "          left = max(left, hashtable[character]+1) # Проверяем внутри ле текущего окна повторяющейся символ, если нет - обновляем left\n",
        "        hashtable[character] = right\n",
        "        result = max(result, right - left + 1)\n",
        "      return result \n"
      ],
      "metadata": {
        "id": "Wn8zMHYxM0g6"
      },
      "execution_count": null,
      "outputs": []
    },
    {
      "cell_type": "code",
      "source": [
        "# должно быть 6\n",
        "s = \"umvejcuuk\"\n",
        "Solution().lengthOfLongestSubstring(s)"
      ],
      "metadata": {
        "colab": {
          "base_uri": "https://localhost:8080/"
        },
        "id": "tO-Wj2vBXdDv",
        "outputId": "fef7e40d-4fed-4e42-8b84-0ca00c23d391"
      },
      "execution_count": null,
      "outputs": [
        {
          "output_type": "execute_result",
          "data": {
            "text/plain": [
              "6"
            ]
          },
          "metadata": {},
          "execution_count": 24
        }
      ]
    },
    {
      "cell_type": "code",
      "source": [
        "s = \"anviaj\"\n",
        "i = 4\n",
        "character = 'a'\n",
        "hashtable = {'a': 0, 'n': 1, 'v': 2, 'i': 3}\n",
        "s[hashtable[character]+1:i]\n",
        "# dict([(key, hashtable[key]) for key in s[hashtable[character]:s[i]]])"
      ],
      "metadata": {
        "colab": {
          "base_uri": "https://localhost:8080/",
          "height": 36
        },
        "id": "TNFei0AZRqS-",
        "outputId": "0325e646-48ae-426e-cefe-c94495cff989"
      },
      "execution_count": null,
      "outputs": [
        {
          "output_type": "execute_result",
          "data": {
            "text/plain": [
              "'nvi'"
            ],
            "application/vnd.google.colaboratory.intrinsic+json": {
              "type": "string"
            }
          },
          "metadata": {},
          "execution_count": 3
        }
      ]
    },
    {
      "cell_type": "code",
      "source": [
        "# должно быть 5\n",
        "s = \"anviaj\"\n",
        "Solution().lengthOfLongestSubstring(s)\n"
      ],
      "metadata": {
        "colab": {
          "base_uri": "https://localhost:8080/"
        },
        "id": "YZN0nTIEK6Y8",
        "outputId": "b3aa3b7d-74cf-4ff0-c2c9-c8698bb826e3"
      },
      "execution_count": null,
      "outputs": [
        {
          "output_type": "execute_result",
          "data": {
            "text/plain": [
              "5"
            ]
          },
          "metadata": {},
          "execution_count": 25
        }
      ]
    },
    {
      "cell_type": "code",
      "source": [
        "# 3\n",
        "s = \"dvdf\"\n",
        "Solution().lengthOfLongestSubstring(s)"
      ],
      "metadata": {
        "colab": {
          "base_uri": "https://localhost:8080/"
        },
        "id": "SxBvPhWWGiA4",
        "outputId": "bbfa309f-d087-4392-b4d3-baf635b9f248"
      },
      "execution_count": null,
      "outputs": [
        {
          "output_type": "execute_result",
          "data": {
            "text/plain": [
              "3"
            ]
          },
          "metadata": {},
          "execution_count": 26
        }
      ]
    },
    {
      "cell_type": "code",
      "source": [
        "# 0\n",
        "s = ''\n",
        "Solution().lengthOfLongestSubstring(s)"
      ],
      "metadata": {
        "colab": {
          "base_uri": "https://localhost:8080/"
        },
        "id": "C05dE_ImD7YA",
        "outputId": "5d4959d2-2df8-4a35-e8aa-95d9c42dbba6"
      },
      "execution_count": null,
      "outputs": [
        {
          "output_type": "execute_result",
          "data": {
            "text/plain": [
              "0"
            ]
          },
          "metadata": {},
          "execution_count": 27
        }
      ]
    },
    {
      "cell_type": "code",
      "source": [
        "# 1\n",
        "s = ' '\n",
        "Solution().lengthOfLongestSubstring(s)"
      ],
      "metadata": {
        "colab": {
          "base_uri": "https://localhost:8080/"
        },
        "id": "k0x1vIizD_nN",
        "outputId": "066e6864-cfe2-4c46-ae63-f28766f77494"
      },
      "execution_count": null,
      "outputs": [
        {
          "output_type": "execute_result",
          "data": {
            "text/plain": [
              "1"
            ]
          },
          "metadata": {},
          "execution_count": 28
        }
      ]
    },
    {
      "cell_type": "code",
      "source": [
        "s = \"aab\"\n",
        "Solution().lengthOfLongestSubstring(s)"
      ],
      "metadata": {
        "colab": {
          "base_uri": "https://localhost:8080/"
        },
        "id": "9xSU-aIAFb8I",
        "outputId": "029310e3-995c-4977-d58a-9acfb1af6cde"
      },
      "execution_count": null,
      "outputs": [
        {
          "output_type": "execute_result",
          "data": {
            "text/plain": [
              "2"
            ]
          },
          "metadata": {},
          "execution_count": 29
        }
      ]
    },
    {
      "cell_type": "code",
      "source": [
        "s = \"au\"\n",
        "Solution().lengthOfLongestSubstring(s)"
      ],
      "metadata": {
        "colab": {
          "base_uri": "https://localhost:8080/"
        },
        "id": "1oYG6KyaFFYX",
        "outputId": "e0af5d55-191c-46bf-81cc-457d47a4de00"
      },
      "execution_count": null,
      "outputs": [
        {
          "output_type": "execute_result",
          "data": {
            "text/plain": [
              "2"
            ]
          },
          "metadata": {},
          "execution_count": 30
        }
      ]
    },
    {
      "cell_type": "code",
      "source": [
        "# 3\n",
        "s = \"abcabcbb\"\n",
        "Solution().lengthOfLongestSubstring(s)"
      ],
      "metadata": {
        "colab": {
          "base_uri": "https://localhost:8080/"
        },
        "id": "WoICRtRq-8RN",
        "outputId": "5d25d321-f196-4e8e-e5f6-3303e69182e8"
      },
      "execution_count": null,
      "outputs": [
        {
          "output_type": "execute_result",
          "data": {
            "text/plain": [
              "3"
            ]
          },
          "metadata": {},
          "execution_count": 31
        }
      ]
    },
    {
      "cell_type": "code",
      "source": [
        "# 1\n",
        "s = \"bbbbb\"\n",
        "Solution().lengthOfLongestSubstring(s)"
      ],
      "metadata": {
        "colab": {
          "base_uri": "https://localhost:8080/"
        },
        "id": "zmFG1GjA_iWv",
        "outputId": "47db9571-ccf5-41a9-f305-ee453bed7a4d"
      },
      "execution_count": null,
      "outputs": [
        {
          "output_type": "execute_result",
          "data": {
            "text/plain": [
              "1"
            ]
          },
          "metadata": {},
          "execution_count": 32
        }
      ]
    },
    {
      "cell_type": "code",
      "source": [
        "# 3\n",
        "s = \"pwwkew\"\n",
        "Solution().lengthOfLongestSubstring(s)"
      ],
      "metadata": {
        "colab": {
          "base_uri": "https://localhost:8080/"
        },
        "id": "Kk1EjytTCBwt",
        "outputId": "4177253c-45ad-40a3-c333-1b54d864f90d"
      },
      "execution_count": null,
      "outputs": [
        {
          "output_type": "execute_result",
          "data": {
            "text/plain": [
              "3"
            ]
          },
          "metadata": {},
          "execution_count": 33
        }
      ]
    },
    {
      "cell_type": "markdown",
      "source": [
        "# 567 Permutation in String (MEDIUM, вернуться)\n",
        "\n",
        "https://leetcode.com/problems/permutation-in-string\n",
        "\n",
        "Кажется логика следуящая:\n",
        "- создаем counter для s1 - это славарь с частотой появления символов;\n",
        "- по s2 двигаемся окном шириной s1 и смотрим встречаются ли символы в нашем словаре. Если да, уменьшаем для них счетчик на единицу. По сути нам важно, чтобы частота символов в окне соответствал частоте словаря (порядок неважен, так как у нас premutation).\n",
        "- таким образом, есчли счетчик доходит до 0 для всех символов s1 - возвращаем true. Можно реализовать с помощью list comperhansion и функции all - возвращает true, когда все значения в списке true (т.е. когда все нули)\n",
        "- так как у нас вопрос в задаче - есть ли premutation s1 в s2 и нам не нужно считать их количество, то мы просто возвращаем на выходе True как только наталкиваемся на первую premutation."
      ],
      "metadata": {
        "id": "Qe144YgLDUhz"
      }
    },
    {
      "cell_type": "code",
      "source": [
        "class Solution:\n",
        "    def checkInclusion(self, s1: str, s2: str) -> bool:\n",
        "        counter = Counter(s1)\n",
        "        window = len(s1)\n",
        "        for i, character in enumerate(s2):\n",
        "          if character in counter:\n",
        "            counter[character] -= 1\n",
        "\n",
        "          # тут стоит поразбираться\n",
        "          if i >= window and s2[i-window] in counter:\n",
        "            counter[s2[i-window]] += 1\n",
        "            print(s2[i-window])\n",
        "            \n",
        "          if all([counter[i] == 0 for i in counter]):\n",
        "            print(i, character, counter)\n",
        "            return True  \n",
        "            \n",
        "          print(i, character, counter)\n",
        "        return False"
      ],
      "metadata": {
        "id": "fnjYcdajBQXl"
      },
      "execution_count": 82,
      "outputs": []
    },
    {
      "cell_type": "code",
      "source": [
        "# true\n",
        "s1 = \"ab\"\n",
        "s2 = \"eidbaooo\"\n",
        "Solution().checkInclusion(s1, s2)"
      ],
      "metadata": {
        "id": "tqMudeyuAUS6",
        "colab": {
          "base_uri": "https://localhost:8080/"
        },
        "outputId": "74326622-4029-4157-ad2c-1c1572bfe025"
      },
      "execution_count": 83,
      "outputs": [
        {
          "output_type": "stream",
          "name": "stdout",
          "text": [
            "0 e Counter({'a': 1, 'b': 1})\n",
            "1 i Counter({'a': 1, 'b': 1})\n",
            "2 d Counter({'a': 1, 'b': 1})\n",
            "3 b Counter({'a': 1, 'b': 0})\n",
            "4 a Counter({'a': 0, 'b': 0})\n"
          ]
        },
        {
          "output_type": "execute_result",
          "data": {
            "text/plain": [
              "True"
            ]
          },
          "metadata": {},
          "execution_count": 83
        }
      ]
    },
    {
      "cell_type": "code",
      "source": [
        "# false\n",
        "s1 = \"ab\"\n",
        "s2 = \"eidboaoo\"\n",
        "Solution().checkInclusion(s1, s2)"
      ],
      "metadata": {
        "colab": {
          "base_uri": "https://localhost:8080/"
        },
        "id": "hlvEy4XjMWl-",
        "outputId": "4414ed4d-1aea-4327-b1ff-a308ece79a33"
      },
      "execution_count": 84,
      "outputs": [
        {
          "output_type": "stream",
          "name": "stdout",
          "text": [
            "0 e Counter({'a': 1, 'b': 1})\n",
            "1 i Counter({'a': 1, 'b': 1})\n",
            "2 d Counter({'a': 1, 'b': 1})\n",
            "3 b Counter({'a': 1, 'b': 0})\n",
            "4 o Counter({'a': 1, 'b': 0})\n",
            "b\n",
            "5 a Counter({'b': 1, 'a': 0})\n",
            "6 o Counter({'b': 1, 'a': 0})\n",
            "a\n",
            "7 o Counter({'a': 1, 'b': 1})\n"
          ]
        },
        {
          "output_type": "execute_result",
          "data": {
            "text/plain": [
              "False"
            ]
          },
          "metadata": {},
          "execution_count": 84
        }
      ]
    },
    {
      "cell_type": "markdown",
      "source": [
        "# 733 Flood Fill (вернуться)\n",
        "https://leetcode.com/problems/flood-fill\n",
        "\n",
        "\n",
        "![image](https://assets.leetcode.com/uploads/2021/06/01/flood1-grid.jpg)"
      ],
      "metadata": {
        "id": "beswlpsvI9GQ"
      }
    },
    {
      "cell_type": "code",
      "source": [
        "class Solution:\n",
        "    def floodFill(self, image: List[List[int]], sr: int, sc: int, newColor: int) -> List[List[int]]:\n",
        "        r, c = len(image), len(image[0])\n",
        "        color = image[sr][sc]\n",
        "        def dfs(i, j):\n",
        "            if i < 0 or i>=r or j < 0 or j >= c:\n",
        "                return\n",
        "            if image[i][j] == newColor or image[i][j] != color:\n",
        "                return\n",
        "            image[i][j] = newColor\n",
        "            dfs(i+1, j)\n",
        "            dfs(i-1, j)\n",
        "            dfs(i,j+1)\n",
        "            dfs(i, j-1)\n",
        "        dfs(sr, sc)\n",
        "        return image"
      ],
      "metadata": {
        "id": "7Dp9oCk1aKUO"
      },
      "execution_count": null,
      "outputs": []
    },
    {
      "cell_type": "code",
      "source": [
        "sr, sc = 1, 1\n",
        "color = 2\n",
        "image = [[1,1,1],[1,1,0],[1,0,1]]\n",
        "np.array(Solution().floodFill(image, sr, sc, color))"
      ],
      "metadata": {
        "colab": {
          "base_uri": "https://localhost:8080/"
        },
        "id": "6mDI1KYFaOjg",
        "outputId": "b9edf74c-4610-4f13-f548-a84e32977b1c"
      },
      "execution_count": null,
      "outputs": [
        {
          "output_type": "execute_result",
          "data": {
            "text/plain": [
              "array([[2, 2, 2],\n",
              "       [2, 2, 0],\n",
              "       [2, 0, 1]])"
            ]
          },
          "metadata": {},
          "execution_count": 21
        }
      ]
    },
    {
      "cell_type": "code",
      "source": [
        "def factorial(n):\n",
        "  if n == 1:\n",
        "    return n\n",
        "  else:\n",
        "    return n*factorial(n-1)"
      ],
      "metadata": {
        "id": "fkI4TrpMOBLl"
      },
      "execution_count": 7,
      "outputs": []
    },
    {
      "cell_type": "code",
      "source": [
        "factorial(5)"
      ],
      "metadata": {
        "colab": {
          "base_uri": "https://localhost:8080/"
        },
        "id": "3BPtqLTxnzYs",
        "outputId": "387946c5-6730-43c5-89fb-cde040b40ba7"
      },
      "execution_count": 9,
      "outputs": [
        {
          "output_type": "execute_result",
          "data": {
            "text/plain": [
              "120"
            ]
          },
          "metadata": {},
          "execution_count": 9
        }
      ]
    },
    {
      "cell_type": "code",
      "source": [
        "import numpy as np"
      ],
      "metadata": {
        "id": "pLOA88vYs-HM"
      },
      "execution_count": 27,
      "outputs": []
    },
    {
      "cell_type": "code",
      "source": [
        "np.array([[x]*6 for x in [0]*7])"
      ],
      "metadata": {
        "colab": {
          "base_uri": "https://localhost:8080/"
        },
        "id": "ttoRKORjopGP",
        "outputId": "fe3db7be-fb6b-4d47-f7f9-9b342b3a3504"
      },
      "execution_count": 16,
      "outputs": [
        {
          "output_type": "execute_result",
          "data": {
            "text/plain": [
              "array([[0, 0, 0, 0, 0, 0],\n",
              "       [0, 0, 0, 0, 0, 0],\n",
              "       [0, 0, 0, 0, 0, 0],\n",
              "       [0, 0, 0, 0, 0, 0],\n",
              "       [0, 0, 0, 0, 0, 0],\n",
              "       [0, 0, 0, 0, 0, 0],\n",
              "       [0, 0, 0, 0, 0, 0]])"
            ]
          },
          "metadata": {},
          "execution_count": 16
        }
      ]
    },
    {
      "cell_type": "markdown",
      "source": [
        "# Recursion minute\n",
        "\n",
        "Рекурсивная функция - функция, содержащая в теле вызов самой себя.  \n",
        "Удобно использовать например  при вычислении факториала, сортировке, проходу по дереву или графу\n",
        "\n",
        "https://realpython.com/python-recursion/"
      ],
      "metadata": {
        "id": "Gdx_PZOossOW"
      }
    },
    {
      "cell_type": "code",
      "source": [
        "def count_leaf_items(item_list):\n",
        "    \"\"\"Recursively counts and returns the\n",
        "       number of leaf items in a (potentially\n",
        "       nested) list.\n",
        "    \"\"\"\n",
        "    # print(f\"List: {item_list}\")\n",
        "    count = 0\n",
        "    for item in item_list:\n",
        "        if isinstance(item, list):  # проверка, является ли элемент списком, для детектирования списков в списке\n",
        "            # print(\"Encountered sublist\")\n",
        "            count += count_leaf_items(item)\n",
        "        else:\n",
        "            # print(f\"Counted leaf item \\\"{item}\\\"\")\n",
        "            count += 1\n",
        "\n",
        "    # print(f\"-> Returning count {count}\")\n",
        "    return count"
      ],
      "metadata": {
        "id": "UlQUdFxE6nYj"
      },
      "execution_count": 25,
      "outputs": []
    },
    {
      "cell_type": "code",
      "source": [
        "names = [\n",
        "    \"Adam\",\n",
        "    [\n",
        "        \"Bob\",\n",
        "        [\n",
        "            \"Chet\",\n",
        "            \"Cat\",\n",
        "        ],\n",
        "        \"Barb\",\n",
        "        \"Bert\"\n",
        "    ],\n",
        "    \"Alex\",\n",
        "    [\n",
        "        \"Bea\",\n",
        "        \"Bill\"\n",
        "    ],\n",
        "    \"Ann\"\n",
        "]"
      ],
      "metadata": {
        "id": "k0FsG_mL609z"
      },
      "execution_count": 23,
      "outputs": []
    },
    {
      "cell_type": "code",
      "source": [
        "count_leaf_items(names)"
      ],
      "metadata": {
        "colab": {
          "base_uri": "https://localhost:8080/"
        },
        "id": "-CX3h5UN6_rM",
        "outputId": "884b9326-54ad-4479-ae96-ffa40a750839"
      },
      "execution_count": 24,
      "outputs": [
        {
          "output_type": "execute_result",
          "data": {
            "text/plain": [
              "10"
            ]
          },
          "metadata": {},
          "execution_count": 24
        }
      ]
    },
    {
      "cell_type": "code",
      "source": [
        "def quick_sort(numbers):\n",
        "  if len(numbers) <= 1:\n",
        "    return numbers\n",
        "  else:\n",
        "    # чтобы сконкатинировать списки в конце, pivot должен быть тоже списком\n",
        "    pivot = [int(np.median([numbers[0], numbers[-1], numbers[len(numbers)//2]]))]\n",
        "    left = [n for n in numbers if n < pivot[0]]\n",
        "    right = [n for n in numbers if n > pivot[0]]\n",
        "  print(pivot)\n",
        "  print(left)\n",
        "  print(right, '\\n')\n",
        "  return (\n",
        "      quick_sort(left) + pivot + quick_sort(right)\n",
        "  )\n",
        " "
      ],
      "metadata": {
        "id": "3Y68kzm47BnX"
      },
      "execution_count": 75,
      "outputs": []
    },
    {
      "cell_type": "code",
      "source": [
        "numbers = [np.random.randint(0, 100) for n in range(20)]\n",
        "numbers"
      ],
      "metadata": {
        "colab": {
          "base_uri": "https://localhost:8080/"
        },
        "id": "BZ8sga6B94z-",
        "outputId": "96236ed2-ab97-4d0c-faed-7c3b401a486a"
      },
      "execution_count": 84,
      "outputs": [
        {
          "output_type": "execute_result",
          "data": {
            "text/plain": [
              "[34, 35, 58, 93, 25, 1, 20, 90, 16, 6, 46, 26, 29, 20, 38, 25, 99, 67, 10, 88]"
            ]
          },
          "metadata": {},
          "execution_count": 84
        }
      ]
    },
    {
      "cell_type": "code",
      "source": [
        "quick_sort(numbers)"
      ],
      "metadata": {
        "colab": {
          "base_uri": "https://localhost:8080/"
        },
        "id": "gcBisZI28LAV",
        "outputId": "56b52ad1-53e5-4a97-891f-dcc9649561c0"
      },
      "execution_count": 87,
      "outputs": [
        {
          "output_type": "stream",
          "name": "stdout",
          "text": [
            "[46]\n",
            "[34, 35, 25, 1, 20, 16, 6, 26, 29, 20, 38, 25, 10]\n",
            "[58, 93, 90, 99, 67, 88] \n",
            "\n",
            "[10]\n",
            "[1, 6]\n",
            "[34, 35, 25, 20, 16, 26, 29, 20, 38, 25] \n",
            "\n",
            "[6]\n",
            "[1]\n",
            "[] \n",
            "\n",
            "[26]\n",
            "[25, 20, 16, 20, 25]\n",
            "[34, 35, 29, 38] \n",
            "\n",
            "[25]\n",
            "[20, 16, 20]\n",
            "[] \n",
            "\n",
            "[20]\n",
            "[16]\n",
            "[] \n",
            "\n",
            "[34]\n",
            "[29]\n",
            "[35, 38] \n",
            "\n",
            "[38]\n",
            "[35]\n",
            "[] \n",
            "\n",
            "[88]\n",
            "[58, 67]\n",
            "[93, 90, 99] \n",
            "\n",
            "[67]\n",
            "[58]\n",
            "[] \n",
            "\n",
            "[93]\n",
            "[90]\n",
            "[99] \n",
            "\n"
          ]
        },
        {
          "output_type": "execute_result",
          "data": {
            "text/plain": [
              "[1, 6, 10, 16, 20, 25, 26, 29, 34, 35, 38, 46, 58, 67, 88, 90, 93, 99]"
            ]
          },
          "metadata": {},
          "execution_count": 87
        }
      ]
    },
    {
      "cell_type": "markdown",
      "source": [
        "# 695 Max Area of Island (MEDIUM)\n",
        "https://leetcode.com/problems/max-area-of-island/\n",
        "\n",
        "Тут как раз и целесообразно использовать рекурсивный подход:\n",
        "- пишем рекурсивную функцию для определения площади острова по одной координате (как раз тот самый flood fill);\n",
        "- в этой функции мы смотрим, что координата лежит в границах нашей матрицы. Если координата - остров, то мы запускаем эту же функцию для четырех соседей, а сому эту координату обнуляем (прямо в исходной матрице). Возвращаем площадь острова принадлежащей этой координате, либо 0, если это не остров;\n",
        "- в этой функции каждую посещенную координату можно добавлять в отдельный кортеж seen, а можно обнулять, чтобы она считалась \"водой\" и исключило повторный учет координаты в площади острова;\n",
        "- проходим по матрице и запускаем нашу рекурсивну функцию поиска площади острова. Результаты кладем в список и берем нашу максимальную площадь острова.\n",
        "\n"
      ],
      "metadata": {
        "id": "IUlBrhgKCKnh"
      }
    },
    {
      "cell_type": "code",
      "source": [
        "class Solution(object):\n",
        "    def maxAreaOfIsland(self, grid):\n",
        "      rows = len(grid)\n",
        "      columns = len(grid[0])\n",
        "\n",
        "      def area_fill(i, j):\n",
        "        if 0 <= i < rows and 0 <= j < columns and grid[i][j]==1:\n",
        "          grid[i][j] = 0\n",
        "          return 1 + area_fill(i+1,j) + area_fill(i-1,j) + area_fill(i,j+1) + area_fill(i,j-1)\n",
        "        else:\n",
        "          return 0\n",
        "      \n",
        "      areas = []\n",
        "      for i in range(rows):\n",
        "        for j in range(columns):\n",
        "          areas.append(area_fill(i, j))\n",
        "\n",
        "      return max(areas)\n"
      ],
      "metadata": {
        "id": "OMi3blTwE3KS"
      },
      "execution_count": 98,
      "outputs": []
    },
    {
      "cell_type": "code",
      "source": [
        "grid = [[0,0,1,0,0,0,0,1,0,0,0,0,0],\n",
        "        [0,0,0,0,0,0,0,1,1,1,0,0,0],\n",
        "        [0,1,1,0,1,0,0,0,0,0,0,0,0],\n",
        "        [0,1,0,0,1,1,0,0,1,0,1,0,0],\n",
        "        [0,1,0,0,1,1,0,0,1,1,1,0,0],\n",
        "        [0,0,0,0,0,0,0,0,0,0,1,0,0],\n",
        "        [0,0,0,0,0,0,0,1,1,1,0,0,0],\n",
        "        [0,0,0,0,0,0,0,1,1,0,0,0,0]]"
      ],
      "metadata": {
        "id": "Xx2GMP3dIBFu"
      },
      "execution_count": 87,
      "outputs": []
    },
    {
      "cell_type": "code",
      "source": [
        "Solution().maxAreaOfIsland(grid)"
      ],
      "metadata": {
        "colab": {
          "base_uri": "https://localhost:8080/"
        },
        "id": "s3VAcJH5IUb5",
        "outputId": "e5881649-5cae-4152-af7f-8bf37c394b10"
      },
      "execution_count": 105,
      "outputs": [
        {
          "output_type": "execute_result",
          "data": {
            "text/plain": [
              "6"
            ]
          },
          "metadata": {},
          "execution_count": 105
        }
      ]
    },
    {
      "cell_type": "code",
      "source": [
        "grid = [[0, 0, 0, 0]]\n",
        "Solution().maxAreaOfIsland(grid)"
      ],
      "metadata": {
        "colab": {
          "base_uri": "https://localhost:8080/"
        },
        "id": "qag2L6t2KNcY",
        "outputId": "3cd98859-7580-4245-eddd-10e30d4ab224"
      },
      "execution_count": 102,
      "outputs": [
        {
          "output_type": "execute_result",
          "data": {
            "text/plain": [
              "0"
            ]
          },
          "metadata": {},
          "execution_count": 102
        }
      ]
    },
    {
      "cell_type": "code",
      "source": [
        "# последнюю часть можно записать красивее через list comprehension\n",
        "class Solution(object):\n",
        "    def maxAreaOfIsland(self, grid):\n",
        "      rows = len(grid)\n",
        "      columns = len(grid[0])\n",
        "\n",
        "      def area_fill(i, j):\n",
        "        if 0 <= i < rows and 0 <= j < columns and grid[i][j]==1:\n",
        "          grid[i][j] = 0\n",
        "          return 1 + area_fill(i+1,j) + area_fill(i-1,j) + area_fill(i,j+1) + area_fill(i,j-1)\n",
        "        else:\n",
        "          return 0\n",
        "      \n",
        "      return max([area_fill(i, j) for i in range(rows) for j in range(columns)])\n"
      ],
      "metadata": {
        "id": "gU7EQDReKd8-"
      },
      "execution_count": 85,
      "outputs": []
    },
    {
      "cell_type": "code",
      "source": [
        "Solution().maxAreaOfIsland(grid)"
      ],
      "metadata": {
        "id": "yOxEcfJsL1HV",
        "colab": {
          "base_uri": "https://localhost:8080/"
        },
        "outputId": "06a9cc50-59b9-4210-cb31-b441b1605e99"
      },
      "execution_count": 88,
      "outputs": [
        {
          "output_type": "execute_result",
          "data": {
            "text/plain": [
              "6"
            ]
          },
          "metadata": {},
          "execution_count": 88
        }
      ]
    },
    {
      "cell_type": "markdown",
      "source": [
        "# 617 Merge Two Binary Trees\n",
        "\n",
        "https://leetcode.com/problems/merge-two-binary-trees\n",
        "\n",
        "\n",
        "![image](https://assets.leetcode.com/uploads/2021/02/05/merge.jpg)\n",
        "\n",
        "Бинарное дерево означает, что у одного узла могут быть только два дочерних узла или листка\n",
        "\n",
        "Логично решается с использованием рекурсивного подхода. Путаницу вносит только необходимость использования класса TreeNode в функции:\n",
        "- если узел дерева 1 и узел дерева 2 не существуют, возвращаем 0\n",
        "- если существует ходя бы один из них суммируем их и запускаем функцию рекурсивно для дочерних узлов.\n",
        "\n",
        "\n",
        "`t1 and t1.left` то же самое что и `t1.left if t1 is not None else`\n",
        "\n",
        "Не понимаю как нормально ввести исходные данные. Нашел визуализатор здесь:  \n",
        "https://leetcode.com/problems/recover-binary-search-tree/solutions/32539/Tree-Deserializer-and-Visualizer-for-Python/  \n",
        "но пока не смог его запустить"
      ],
      "metadata": {
        "id": "b3-0syzaM94j"
      }
    },
    {
      "cell_type": "code",
      "source": [
        "# Definition for a binary tree node.\n",
        "class TreeNode:\n",
        "    def __init__(self, val=0, left=None, right=None):\n",
        "        self.val = val\n",
        "        self.left = left\n",
        "        self.right = right\n",
        "\n",
        "class Solution:\n",
        "    def mergeTrees(self, root1: Optional[TreeNode], root2: Optional[TreeNode]) -> Optional[TreeNode]:\n",
        "      if not root1 and not root2:\n",
        "        return None\n",
        "      next = TreeNode((root1.val if root1 else 0) + (root2.val if root2 else 0))\n",
        "      next.left = self.mergeTrees(root1 and root1.left, root2 and root2.left)\n",
        "      next.right = self.mergeTrees(root1 and root1.right, root2 and root2.right)\n",
        "      return next\n"
      ],
      "metadata": {
        "id": "5BL1-XxwNIKg"
      },
      "execution_count": 147,
      "outputs": []
    },
    {
      "cell_type": "code",
      "source": [
        "# другая запись\n",
        "class Solution:\n",
        "    def mergeTrees(self, root1: Optional[TreeNode], root2: Optional[TreeNode]) -> Optional[TreeNode]:\n",
        "      if root1 and root2:\n",
        "        root = TreeNode(root1.val + root2.val)\n",
        "        root.left = self.mergeTrees(root1.left, root2.left)\n",
        "        root.right = self.mergeTrees(root1.right, root2.right)\n",
        "        return root\n",
        "      else:\n",
        "        return root1 or root2"
      ],
      "metadata": {
        "id": "g8H7Xg_lTBwI"
      },
      "execution_count": 134,
      "outputs": []
    },
    {
      "cell_type": "code",
      "source": [
        "# [3,4,5,5,4,null,7]\n",
        "# root1 = TreeNode([1,3,2,5])\n",
        "# root2 = TreeNode([2,1,3,None,4,None,7])"
      ],
      "metadata": {
        "id": "K3AlvJqJNrRV"
      },
      "execution_count": 148,
      "outputs": []
    },
    {
      "cell_type": "code",
      "source": [
        "Solution().mergeTrees(root1, root2).val"
      ],
      "metadata": {
        "colab": {
          "base_uri": "https://localhost:8080/"
        },
        "id": "_fd96btnNvMQ",
        "outputId": "6c62a6cf-9de8-4874-8917-5e000f5ac9d2"
      },
      "execution_count": 149,
      "outputs": [
        {
          "output_type": "execute_result",
          "data": {
            "text/plain": [
              "[1, 3, 2, 5, 2, 1, 3, None, 4, None, 7]"
            ]
          },
          "metadata": {},
          "execution_count": 149
        }
      ]
    },
    {
      "cell_type": "markdown",
      "source": [
        "# 116 Populating Next Right Pointers in Each Node (MEDIUM, вернуться)\n",
        "\n",
        "https://leetcode.com/problems/populating-next-right-pointers-in-each-node\n",
        "\n",
        "![Image](https://assets.leetcode.com/uploads/2019/02/14/116_sample.png)\n",
        "\n",
        "Решить можно с помощью BFS или DFS, а можно рекурсивно"
      ],
      "metadata": {
        "id": "ns0R8i9EdDDZ"
      }
    },
    {
      "cell_type": "code",
      "source": [
        "# Definition for a Node.\n",
        "class Node:\n",
        "    def __init__(self, val: int = 0, left: 'Node' = None, right: 'Node' = None, next: 'Node' = None):\n",
        "        self.val = val\n",
        "        self.left = left\n",
        "        self.right = right\n",
        "        self.next = next\n",
        "\n",
        "class Solution:\n",
        "    def connect(self, root: 'Optional[Node]') -> 'Optional[Node]':\n",
        "      if root and root.left and root.right:\n",
        "          root.left.next = root.right\n",
        "          if root.next:\n",
        "              root.right.next = root.next.left\n",
        "          self.connect(root.left)\n",
        "          self.connect(root.right)\n",
        "      return root"
      ],
      "metadata": {
        "id": "WGlKGxyMEnKk"
      },
      "execution_count": 1,
      "outputs": []
    },
    {
      "cell_type": "markdown",
      "source": [
        "# 542 01 Matrix (MEDIUM, DP)\n",
        "\n",
        "https://leetcode.com/problems/01-matrix\n",
        "\n",
        "![image](https://assets.leetcode.com/uploads/2021/04/24/01-2-grid.jpg)\n",
        "\n",
        "Пропробуем воспользоваться итертивным подходом с применением dynamic programming (DP):  \n",
        "- Основная интуиция тут - кратчайшее расстояние от 1 до ячейки с 0, это расстояние, рассчитанное для соседней ячейки + 1. То есть рассчитанные расстояния мы храним в отдельной матрице (хотя можно изменять и исходную);\n",
        "- дальше пройдемся по матрице дважды и рассмотрим соседей по всем четырем направлениям;\n",
        "- для этого на первом проходе сверху вниз будем смотреть соседей слева и вверху (\"смотреть назад\" относительно прохода). В выхода за границы матрицы ставим бесконечность;\n",
        "- а на втором проходе снизу вверх будем соответственно смотреть соседей справа и внизу.\n",
        "- обновляем матрицу с минимальными расстояниями с помощью функции min() и возвращаем после двух проходов.\n",
        "\n",
        "![image](https://assets.leetcode.com/users/images/8da7965f-6cf4-4ac2-a307-33f661fea5ca_1627604534.7922251.png)\n",
        "\n",
        "\n"
      ],
      "metadata": {
        "id": "p6N5-wLnE9HC"
      }
    },
    {
      "cell_type": "code",
      "source": [
        "class Solution:\n",
        "    def updateMatrix(self, mat: List[List[int]]) -> List[List[int]]:\n",
        "      m = len(mat)\n",
        "      n = len(mat[0])\n",
        "\n",
        "      for i in range(m):\n",
        "        for j in range(n):\n",
        "          if mat[i][j] > 0:\n",
        "            top = mat[i-1][j] if i > 0 else float('INF')\n",
        "            left = mat[i][j-1] if j > 0 else float('INF')\n",
        "            mat[i][j] = min(top, left) + 1\n",
        "      print(np.array(mat))\n",
        "\n",
        "      for i in range(m-1,-1,-1):\n",
        "        for j in range(n-1,-1,-1):\n",
        "          if mat[i][j] > 0:\n",
        "            bottom = mat[i+1][j] if i < m-1 else float('INF')\n",
        "            right = mat[i][j+1] if j < n-1 else float('INF')\n",
        "            mat[i][j] = min(mat[i][j], bottom+1, right+1)\n",
        "      print(np.array(mat))\n",
        "      return mat\n",
        "     "
      ],
      "metadata": {
        "id": "6dCJwECCft0v"
      },
      "execution_count": 39,
      "outputs": []
    },
    {
      "cell_type": "code",
      "source": [
        "# [[0,0,0],[0,1,0],[1,2,1]]\n",
        "mat = [[0,0,0],[0,1,0],[1,1,1]]\n",
        "Solution().updateMatrix(mat)"
      ],
      "metadata": {
        "colab": {
          "base_uri": "https://localhost:8080/"
        },
        "id": "27xqaO2cfwnZ",
        "outputId": "e8ac2d39-3752-490f-8fef-bb9a46883a2b"
      },
      "execution_count": 40,
      "outputs": [
        {
          "output_type": "stream",
          "name": "stdout",
          "text": [
            "[[0 0 0]\n",
            " [0 1 0]\n",
            " [1 2 1]]\n",
            "[[0 0 0]\n",
            " [0 1 0]\n",
            " [1 2 1]]\n"
          ]
        },
        {
          "output_type": "execute_result",
          "data": {
            "text/plain": [
              "[[0, 0, 0], [0, 1, 0], [1, 2, 1]]"
            ]
          },
          "metadata": {},
          "execution_count": 40
        }
      ]
    },
    {
      "cell_type": "markdown",
      "source": [
        "# 994 Rotting Oranges (MEDIUM, BFS)\n",
        "\n",
        "https://leetcode.com/problems/rotting-oranges\n",
        "![Image](https://assets.leetcode.com/uploads/2019/02/16/oranges.png)\n",
        "Тут не остается ничего другого, как пытаться воспользоваться BFS:\n",
        "- создадим двухстороннюю очередь с гнилыми апельсинами (deque, кстати почему не queue ?), счетчик свежих апельсинов и счетчик минут;\n",
        "- проитерируемся по матрице и сложим все гнилые апельсины в очередь и посчитаем свежие;\n",
        "- на верхнем уровне ставим цикл while пока у нас есть свежие апельсины;\n",
        "- теперь итерируемся по нашей очереди с гнилыми апельсинами (pop'ем левый), для каждого в свою очередь итерируемся по четырем соседям\n",
        "- соседей проверяем на границы матрицы, пустые клетки и ранее посещенные;\n",
        "- помечаем в связанных клетках свежий апельсин как гнилой, добавляем его в очередь и уменьшаем счетчик свежих.\n",
        "\n",
        "Как выйти из цикла если остануться свежие апельсины, которые не могут сгнить?\n",
        "\n",
        "\n"
      ],
      "metadata": {
        "id": "6iLS3uM9kHAD"
      }
    },
    {
      "cell_type": "code",
      "source": [
        "class Solution:\n",
        "    def orangesRotting(self, grid: List[List[int]]) -> int:\n",
        "      minutes = 0\n",
        "      fresh_count = 0\n",
        "      rotten = deque()\n",
        "      m, n = len(grid), len(grid[0])\n",
        "\n",
        "      if m == 0:\n",
        "        return - 1\n",
        "\n",
        "      for i in range(m):\n",
        "        for j in range(n):\n",
        "          if grid[i][j] == 1:\n",
        "            fresh_count += 1\n",
        "          if grid[i][j] == 2:  \n",
        "            rotten.append((i,j))\n",
        "\n",
        "      while rotten and fresh_count > 0:\n",
        "        minutes += 1\n",
        "        print(fresh_count, minutes)\n",
        "\n",
        "        for _ in range(len(rotten)):\n",
        "          i, j = rotten.popleft()\n",
        "          \n",
        "          for di, dj in [(1, 0), (-1, 0), (0, 1), (0, -1)]:\n",
        "            ii, jj = i + di, j + dj\n",
        "            if ii < 0 or ii == m or jj < 0 or jj == n:\n",
        "              continue\n",
        "            if grid[ii][jj] == 0 or grid[ii][jj] == 2:\n",
        "              continue\n",
        "            fresh_count -= 1\n",
        "            grid[ii][jj] = 2\n",
        "            rotten.append((ii, jj))\n",
        "\n",
        "      print(f'fresh: {fresh_count}')\n",
        "      if fresh_count == 0:\n",
        "        return minutes\n",
        "      else:\n",
        "        return -1\n",
        "\n",
        "      \n"
      ],
      "metadata": {
        "id": "FXE7knhhyt14"
      },
      "execution_count": 74,
      "outputs": []
    },
    {
      "cell_type": "code",
      "source": [
        "# 4\n",
        "grid = [[2,1,1],[1,1,0],[0,1,1]]\n",
        "Solution().orangesRotting(grid)"
      ],
      "metadata": {
        "colab": {
          "base_uri": "https://localhost:8080/"
        },
        "id": "AS9uZ4udyz_l",
        "outputId": "5436b682-0fe0-4686-c45f-835dda9283c2"
      },
      "execution_count": 75,
      "outputs": [
        {
          "output_type": "stream",
          "name": "stdout",
          "text": [
            "6 1\n",
            "4 2\n",
            "2 3\n",
            "1 4\n",
            "fresh: 0\n"
          ]
        },
        {
          "output_type": "execute_result",
          "data": {
            "text/plain": [
              "4"
            ]
          },
          "metadata": {},
          "execution_count": 75
        }
      ]
    },
    {
      "cell_type": "code",
      "source": [
        "# -1\n",
        "grid = [[2,1,1],[0,1,1],[1,0,1]]\n",
        "Solution().orangesRotting(grid)"
      ],
      "metadata": {
        "colab": {
          "base_uri": "https://localhost:8080/"
        },
        "id": "mN3mwd-uJ1Nn",
        "outputId": "080d55cc-0afe-4ab2-8103-7bf0116b6812"
      },
      "execution_count": 76,
      "outputs": [
        {
          "output_type": "stream",
          "name": "stdout",
          "text": [
            "6 1\n",
            "5 2\n",
            "3 3\n",
            "2 4\n",
            "1 5\n",
            "fresh: 1\n"
          ]
        },
        {
          "output_type": "execute_result",
          "data": {
            "text/plain": [
              "-1"
            ]
          },
          "metadata": {},
          "execution_count": 76
        }
      ]
    },
    {
      "cell_type": "code",
      "source": [
        "# 0\n",
        "grid = [[0,2]]\n",
        "Solution().orangesRotting(grid)\n"
      ],
      "metadata": {
        "colab": {
          "base_uri": "https://localhost:8080/"
        },
        "id": "7QTdRqSaNnvv",
        "outputId": "f479102e-000f-46b1-9ccc-ce360afaa873"
      },
      "execution_count": 78,
      "outputs": [
        {
          "output_type": "stream",
          "name": "stdout",
          "text": [
            "fresh: 0\n"
          ]
        },
        {
          "output_type": "execute_result",
          "data": {
            "text/plain": [
              "0"
            ]
          },
          "metadata": {},
          "execution_count": 78
        }
      ]
    },
    {
      "cell_type": "markdown",
      "source": [
        "# 21 Merge Two Sorted Linked Lists\n",
        "https://leetcode.com/problems/merge-two-sorted-lists\n",
        "\n",
        "Можно решить итеративно, можно с помощью рекурсии"
      ],
      "metadata": {
        "id": "IGXtWxvIOAlJ"
      }
    },
    {
      "cell_type": "code",
      "source": [
        "# iteratively\n",
        "def mergeTwoLists1(self, l1, l2):\n",
        "    dummy = cur = ListNode(0)\n",
        "    while l1 and l2:\n",
        "        if l1.val < l2.val:\n",
        "            cur.next = l1\n",
        "            l1 = l1.next\n",
        "        else:\n",
        "            cur.next = l2\n",
        "            l2 = l2.next\n",
        "        cur = cur.next\n",
        "\n",
        "    # если мы вышли из цикла while, то значит один из списков закончился (None)\n",
        "    # возвращаем остаток того, что не закончился c помощью OR\n",
        "    cur.next = l1 or l2\n",
        "    return dummy.next\n",
        "    \n"
      ],
      "metadata": {
        "id": "qsQhSWUlHWmL"
      },
      "execution_count": 2,
      "outputs": []
    },
    {
      "cell_type": "code",
      "source": [
        "# recursively    \n",
        "def mergeTwoLists2(self, l1, l2):\n",
        "    if not l1 or not l2:\n",
        "        return l1 or l2\n",
        "    if l1.val < l2.val:\n",
        "        l1.next = self.mergeTwoLists(l1.next, l2)\n",
        "        return l1\n",
        "    else:\n",
        "        l2.next = self.mergeTwoLists(l1, l2.next)\n",
        "        return l2"
      ],
      "metadata": {
        "id": "lMIsGp8HHqhj"
      },
      "execution_count": null,
      "outputs": []
    },
    {
      "cell_type": "code",
      "source": [
        "x = None\n",
        "y = [1,3,4]\n",
        "x or y"
      ],
      "metadata": {
        "colab": {
          "base_uri": "https://localhost:8080/"
        },
        "id": "N3XL5XsnI2hp",
        "outputId": "bfc809ee-6d27-4f38-e760-b7db753a924f"
      },
      "execution_count": 12,
      "outputs": [
        {
          "output_type": "execute_result",
          "data": {
            "text/plain": [
              "[1, 3, 4]"
            ]
          },
          "metadata": {},
          "execution_count": 12
        }
      ]
    },
    {
      "cell_type": "markdown",
      "source": [
        "# 77 Combinations (MEDIUM, Backtraking)\n",
        "https://leetcode.com/problems/combinations/\n",
        "\n",
        "Ответ - комбинация из k чисел"
      ],
      "metadata": {
        "id": "MO26kuSaI5QS"
      }
    },
    {
      "cell_type": "code",
      "source": [
        "class Solution:\n",
        "    def combine(self, n: int, k: int) -> List[List[int]]:\n",
        "      result = []\n",
        "      for i in range(1, n):\n",
        "        for j in range(i+1, n+1):\n",
        "          result.append([i,j])\n",
        "      return result\n",
        "\n"
      ],
      "metadata": {
        "id": "EB8PkrdS1W_1"
      },
      "execution_count": 2,
      "outputs": []
    },
    {
      "cell_type": "code",
      "source": [
        "class Solution:\n",
        "    def combine(self, n: int, k: int) -> List[List[int]]:\n",
        "      sol=[]\n",
        "      def backtrack(remain,comb,nex):\n",
        "\t\t\t  # solution found\n",
        "        if remain == 0:\n",
        "          sol.append(comb.copy())\n",
        "        else:\n",
        "\t\t\t\t  # iterate through all possible candidates\n",
        "          for i in range(nex,n+1):\n",
        "\t\t\t\t\t  # add candidate\n",
        "            comb.append(i)\n",
        "\t\t\t\t\t  #backtrack\n",
        "            backtrack(remain-1,comb,i+1)\n",
        "\t\t\t\t\t  # remove candidate\n",
        "            comb.pop()\n",
        "            \n",
        "      backtrack(k,[],1)\n",
        "      return sol"
      ],
      "metadata": {
        "id": "ROvCrUdk-c_q"
      },
      "execution_count": 11,
      "outputs": []
    },
    {
      "cell_type": "code",
      "source": [
        "class Solution:\n",
        "    def combine(self, n: int, k: int) -> List[List[int]]:\n",
        "      sol=[]\n",
        "      def backtrack(k,comb,nex):\n",
        "\t\t\t  # solution found\n",
        "        if k == 0:\n",
        "          sol.append(comb.copy())\n",
        "        else:\n",
        "\t\t\t\t  # iterate through all possible candidates\n",
        "          for i in range(nex,n+1):\n",
        "\t\t\t\t\t  # add candidate\n",
        "            comb.append(i)\n",
        "\t\t\t\t\t  #backtrack\n",
        "            backtrack(k-1,comb,i+1)\n",
        "\t\t\t\t\t  # remove candidate\n",
        "            comb.pop()\n",
        "            \n",
        "      backtrack(k,[],1)\n",
        "      return sol"
      ],
      "metadata": {
        "id": "pONMQn6cBhjc"
      },
      "execution_count": 17,
      "outputs": []
    },
    {
      "cell_type": "code",
      "source": [
        "n = 5\n",
        "k = 3\n",
        "Solution().combine(n, k)"
      ],
      "metadata": {
        "colab": {
          "base_uri": "https://localhost:8080/"
        },
        "id": "ZivmmUpB03dA",
        "outputId": "860b94d4-0448-4db6-d1d9-4ffc7e1a55a9"
      },
      "execution_count": 18,
      "outputs": [
        {
          "output_type": "execute_result",
          "data": {
            "text/plain": [
              "[[1, 2, 3],\n",
              " [1, 2, 4],\n",
              " [1, 2, 5],\n",
              " [1, 3, 4],\n",
              " [1, 3, 5],\n",
              " [1, 4, 5],\n",
              " [2, 3, 4],\n",
              " [2, 3, 5],\n",
              " [2, 4, 5],\n",
              " [3, 4, 5]]"
            ]
          },
          "metadata": {},
          "execution_count": 18
        }
      ]
    },
    {
      "cell_type": "code",
      "source": [
        "list(range(1,n+1))"
      ],
      "metadata": {
        "colab": {
          "base_uri": "https://localhost:8080/"
        },
        "id": "SEzZdzkp075a",
        "outputId": "f184dfdd-c31f-4d7c-cd00-9f94a022fcba"
      },
      "execution_count": 4,
      "outputs": [
        {
          "output_type": "execute_result",
          "data": {
            "text/plain": [
              "[1, 2, 3, 4]"
            ]
          },
          "metadata": {},
          "execution_count": 4
        }
      ]
    },
    {
      "cell_type": "markdown",
      "source": [
        "# 46 Permutations (MEDIUM)\n",
        "\n",
        "https://leetcode.com/problems/permutations\n",
        "\n",
        "Количество пермутаций (перестановок) равно факториалу числа элементов в списке. Это можно как то использовать или проверить алгоритм.\n",
        "\n",
        "Задача решается бэктрекингом, но также по сути это Depth first search\n"
      ],
      "metadata": {
        "id": "BZm_UkKX1AWC"
      }
    },
    {
      "cell_type": "code",
      "source": [
        "class Solution:\n",
        "    def permute(self, nums: List[int]) -> List[List[int]]:\n",
        "      comb = []\n",
        "      n = len(nums)\n",
        "      for i in range(n):\n",
        "        temp = []\n",
        "        print(i)\n",
        "        for j in range(i+1, n):\n",
        "          temp[i] = nums[j]\n",
        "          temp[j] = nums[i]\n",
        "          print(j)\n",
        "          print(temp)\n",
        "          "
      ],
      "metadata": {
        "id": "gZDlObfPKlMt"
      },
      "execution_count": 34,
      "outputs": []
    },
    {
      "cell_type": "code",
      "source": [
        "# DFS\n",
        "class Solution:\n",
        "  def permute(self, nums):\n",
        "      res = []\n",
        "      self.dfs(nums, [], res)\n",
        "      return res\n",
        "      \n",
        "  def dfs(self, nums, path, res):\n",
        "      if not nums:\n",
        "          res.append(path)\n",
        "          # return # backtracking\n",
        "      for i in range(len(nums)):\n",
        "          self.dfs(nums[:i]+nums[i+1:], path+[nums[i]], res)"
      ],
      "metadata": {
        "id": "APm8EWrdFOy_"
      },
      "execution_count": 4,
      "outputs": []
    },
    {
      "cell_type": "code",
      "source": [
        "nums = [1,2,3]\n",
        "Solution().permute(nums)"
      ],
      "metadata": {
        "colab": {
          "base_uri": "https://localhost:8080/"
        },
        "id": "AjDbLQTkKl6Y",
        "outputId": "1fad5bcb-1457-4c7a-e232-bbfa32ca6c95"
      },
      "execution_count": 5,
      "outputs": [
        {
          "output_type": "execute_result",
          "data": {
            "text/plain": [
              "[[1, 2, 3], [1, 3, 2], [2, 1, 3], [2, 3, 1], [3, 1, 2], [3, 2, 1]]"
            ]
          },
          "metadata": {},
          "execution_count": 5
        }
      ]
    },
    {
      "cell_type": "code",
      "source": [],
      "metadata": {
        "id": "6gCb4RnIKtr6"
      },
      "execution_count": null,
      "outputs": []
    }
  ]
}